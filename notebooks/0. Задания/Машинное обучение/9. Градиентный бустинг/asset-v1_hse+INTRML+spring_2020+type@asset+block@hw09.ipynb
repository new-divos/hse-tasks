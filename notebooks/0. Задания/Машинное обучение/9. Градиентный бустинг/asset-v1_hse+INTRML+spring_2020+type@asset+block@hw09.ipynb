{
  "nbformat": 4,
  "nbformat_minor": 0,
  "metadata": {
    "kernelspec": {
      "display_name": "Python 3",
      "language": "python",
      "name": "python3"
    },
    "language_info": {
      "codemirror_mode": {
        "name": "ipython",
        "version": 3
      },
      "file_extension": ".py",
      "mimetype": "text/x-python",
      "name": "python",
      "nbconvert_exporter": "python",
      "pygments_lexer": "ipython3",
      "version": "3.6.5"
    },
    "colab": {
      "name": "hw09.ipynb",
      "provenance": [],
      "collapsed_sections": []
    }
  },
  "cells": [
    {
      "cell_type": "markdown",
      "metadata": {
        "id": "XDorr4PvB4oP",
        "colab_type": "text"
      },
      "source": [
        "## Домашнее задание 9\n",
        "### Градиентный бустинг\n",
        "\n",
        "В данном домашнем задании мы изучим применение градиентного бустинга для решения реальных задач.\n",
        "  \n",
        "Мы будем использовать данные об аренде квартир сервиса Яндекс.Недвижимость: по информации из объявления предсказывать время его экспозиции на сервисе.  \n",
        "\n",
        "Метрикой качества для в данном задании является средняя абсолютная ошибка, MAE."
      ]
    },
    {
      "cell_type": "code",
      "metadata": {
        "id": "XVVUBuQYtVvr",
        "colab_type": "code",
        "colab": {}
      },
      "source": [
        "! wget https://www.dropbox.com/s/psutl0zafq50828/data.tsv > ./data.tsv"
      ],
      "execution_count": 0,
      "outputs": []
    },
    {
      "cell_type": "code",
      "metadata": {
        "id": "I2Tb5a7JDzw8",
        "colab_type": "code",
        "colab": {}
      },
      "source": [
        "! pip install catboost==0.22\n",
        "! pip install lightgbm==2.3.1"
      ],
      "execution_count": 0,
      "outputs": []
    },
    {
      "cell_type": "code",
      "metadata": {
        "id": "wfHAGNgnB4oQ",
        "colab_type": "code",
        "colab": {}
      },
      "source": [
        "import pandas as pd\n",
        "import catboost\n",
        "import lightgbm\n",
        "from sklearn.model_selection import train_test_split\n",
        "from sklearn.metrics import mean_absolute_error\n",
        "\n",
        "data = pd.read_csv('./data.tsv', sep='\\t')\n",
        "num_features = ['agent_fee', 'floor', 'floors_total', 'kitchen_area', 'living_area', 'price', 'rooms_offered', 'total_area', 'total_images']\n",
        "cat_features = ['balcony', 'building_type', 'month', 'renovation', 'studio']\n",
        "\n",
        "X_train, X_test, y_train, y_test = train_test_split(data[num_features+cat_features], data['exposition_time'], test_size=0.3, shuffle=False)"
      ],
      "execution_count": 0,
      "outputs": []
    },
    {
      "cell_type": "markdown",
      "metadata": {
        "id": "mqBxGmIpB4oV",
        "colab_type": "text"
      },
      "source": [
        "__Задание 1.__\n",
        "\n",
        "Обучите реализации градиентного бустинга LightGBM и Catboost на **вещественных** признаках без подбора параметров. Сделайте предсказания для тестовой выборки, посчитайте MAE. Выведите модуль разности между значениями метрик LightGBM и Catboost. Ответ округлите до тысячных.\n",
        "\n",
        "В этом и последующих экспериментах советуем измерять время обучения моделей."
      ]
    },
    {
      "cell_type": "code",
      "metadata": {
        "id": "Jy8G6InQtDoH",
        "colab_type": "code",
        "colab": {}
      },
      "source": [
        "%%time\n",
        "### ╰( ͡° ͜ʖ ͡° )つ──☆*:・ﾟ"
      ],
      "execution_count": 0,
      "outputs": []
    },
    {
      "cell_type": "markdown",
      "metadata": {
        "id": "-cRmOnhMB4ob",
        "colab_type": "text"
      },
      "source": [
        "__Задание 2.__\n",
        "\n",
        "Подберите оптимальные параметры для Catboost на вещественных признаках,  используя все доступные комбинации из:\n",
        "\n",
        "* глубины деревьев {5, 7, 9};\n",
        "* темпа обучения {0.05, 0.1, 0.5}.\n",
        "\n",
        "В качестве оптимизируемого функционала в алгоритме используйте MAE (loss_function='MAE'), random_seed=0, другие параметры оставьте без изменений.\n",
        "\n",
        "Сделайте предсказания для тестовой выборки лучшей моделью, вычислите MAE."
      ]
    },
    {
      "cell_type": "code",
      "metadata": {
        "id": "eC5aTiUJB4ob",
        "colab_type": "code",
        "colab": {}
      },
      "source": [
        "### ╰( ͡° ͜ʖ ͡° )つ──☆*:・ﾟ"
      ],
      "execution_count": 0,
      "outputs": []
    },
    {
      "cell_type": "markdown",
      "metadata": {
        "id": "sdZOQT6iB4of",
        "colab_type": "text"
      },
      "source": [
        "__Задание 3.__\n",
        "\n",
        "Пока что мы использовали только вещественные данные, однако категориальные переменные также могут быть полезны для решения задачи. Перебирая комбинации параметров из предыдущего пункта, используйте все доступные признаки, обрабатывая категориальные встроенным методом Catboost.\n",
        "\n",
        "Выведите значение MAE на тестовой выборке для лучшей модели."
      ]
    },
    {
      "cell_type": "code",
      "metadata": {
        "id": "RPmcsGd6s_Uq",
        "colab_type": "code",
        "colab": {}
      },
      "source": [
        "### ╰( ͡° ͜ʖ ͡° )つ──☆*:・ﾟ"
      ],
      "execution_count": 0,
      "outputs": []
    },
    {
      "cell_type": "markdown",
      "metadata": {
        "id": "VtW2FkMRB4ol",
        "colab_type": "text"
      },
      "source": [
        "__Задание 4.__\n",
        "\n",
        "Реализуйте блендинг (получение ответов нескольких моделей и взятие их с весами (их нужно подбирать на обучающей выборке)) полученных в заданиях 2 и 3 моделей и выведите MAE на тестовой выборке.\n",
        "\n",
        "Обратите внимание: в этом задании нет ограничений на веса у моделей."
      ]
    },
    {
      "cell_type": "code",
      "metadata": {
        "id": "oUEVoJspB4om",
        "colab_type": "code",
        "outputId": "82679543-c52a-420d-8933-1dd0bef20065",
        "colab": {
          "base_uri": "https://localhost:8080/",
          "height": 34
        }
      },
      "source": [
        "### ╰( ͡° ͜ʖ ͡° )つ──☆*:・ﾟ\n",
        "from sklearn.linear_model import LinearRegression"
      ],
      "execution_count": 0,
      "outputs": [
        {
          "output_type": "execute_result",
          "data": {
            "text/plain": [
              "LinearRegression(copy_X=True, fit_intercept=True, n_jobs=None, normalize=False)"
            ]
          },
          "metadata": {
            "tags": []
          },
          "execution_count": 16
        }
      ]
    },
    {
      "cell_type": "markdown",
      "metadata": {
        "id": "BVHeePb_B4op",
        "colab_type": "text"
      },
      "source": [
        "__Задание 5.__\n",
        "\n",
        "В задании 3 вы подобрали гиперпараметры для CatBoost на всех признаках. Визуализируйте их важности в виде горизонтального bar-plot (отсортируйте признаки по убыванию важности, подпишите названия признаков по оси y).\n",
        "\n",
        "Для каждого из двух алгоритмов удалите неважные признаки (значения менее 0.05; обычно по bar-plot хорошо видно порог, с которого начинается хвост неважных признаков) и обучите модель с теми же параметрами на оставшихся признаках. Выведите разность между значениями MAE на тестовой выборке до и после удаления признаков."
      ]
    },
    {
      "cell_type": "code",
      "metadata": {
        "id": "qT_hIbiEB4oq",
        "colab_type": "code",
        "colab": {}
      },
      "source": [
        "### ╰( ͡° ͜ʖ ͡° )つ──☆*:・ﾟ"
      ],
      "execution_count": 0,
      "outputs": []
    }
  ]
}