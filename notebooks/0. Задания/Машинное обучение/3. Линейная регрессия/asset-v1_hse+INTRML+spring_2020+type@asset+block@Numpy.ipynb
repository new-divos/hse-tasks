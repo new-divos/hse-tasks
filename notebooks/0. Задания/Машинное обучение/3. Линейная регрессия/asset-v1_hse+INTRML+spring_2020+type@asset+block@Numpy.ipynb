{
  "nbformat": 4,
  "nbformat_minor": 0,
  "metadata": {
    "colab": {
      "name": "Numpy-Screencast.ipynb",
      "provenance": [],
      "collapsed_sections": []
    },
    "kernelspec": {
      "name": "python3",
      "display_name": "Python 3"
    }
  },
  "cells": [
    {
      "cell_type": "markdown",
      "metadata": {
        "id": "Faqa9juIcNKi",
        "colab_type": "text"
      },
      "source": [
        "На данном семинаре мы изучим библиотеку [numpy](https://numpy.org/). numpy - очень удобная и быстрая библиотека, которая предсоставляет возможность выполнять различные операции над массивами и матрицами. В машинном обучении многие операции работы с данными могут быть представлены, как операции из линейной алгебры. Именно поэтому знание этой библиотеки очень важно."
      ]
    },
    {
      "cell_type": "markdown",
      "metadata": {
        "id": "O6HByVisdI15",
        "colab_type": "text"
      },
      "source": [
        "Для начала познакомимся с базовым объектом в numpy - numpy.ndarray"
      ]
    },
    {
      "cell_type": "code",
      "metadata": {
        "id": "CtRyxeH_bl40",
        "colab_type": "code",
        "colab": {}
      },
      "source": [
        "import numpy as np"
      ],
      "execution_count": 0,
      "outputs": []
    },
    {
      "cell_type": "code",
      "metadata": {
        "id": "8OPtIAsXdj9w",
        "colab_type": "code",
        "colab": {}
      },
      "source": [
        "array = np.array([1, 2, 4])"
      ],
      "execution_count": 0,
      "outputs": []
    },
    {
      "cell_type": "markdown",
      "metadata": {
        "id": "vldlyEr6dnME",
        "colab_type": "text"
      },
      "source": [
        "Код выше создал вектор длины 3. Теперь мы можем выполнять различные арифметические операции над этим вектором."
      ]
    },
    {
      "cell_type": "code",
      "metadata": {
        "id": "Kx2sLlhYdmrs",
        "colab_type": "code",
        "outputId": "c604e2d6-1172-4918-dd4f-061c66ae79a3",
        "colab": {
          "base_uri": "https://localhost:8080/",
          "height": 36
        }
      },
      "source": [
        "array"
      ],
      "execution_count": 0,
      "outputs": [
        {
          "output_type": "execute_result",
          "data": {
            "text/plain": [
              "array([1, 2, 4])"
            ]
          },
          "metadata": {
            "tags": []
          },
          "execution_count": 3
        }
      ]
    },
    {
      "cell_type": "code",
      "metadata": {
        "id": "uFTHKHkNd7jF",
        "colab_type": "code",
        "outputId": "87cee0ac-be82-46a8-ae00-59c1fd676f6a",
        "colab": {
          "base_uri": "https://localhost:8080/",
          "height": 36
        }
      },
      "source": [
        "array * 2"
      ],
      "execution_count": 0,
      "outputs": [
        {
          "output_type": "execute_result",
          "data": {
            "text/plain": [
              "array([2, 4, 8])"
            ]
          },
          "metadata": {
            "tags": []
          },
          "execution_count": 4
        }
      ]
    },
    {
      "cell_type": "code",
      "metadata": {
        "id": "Ev1XxKxbd8X7",
        "colab_type": "code",
        "outputId": "6667fcec-a4c5-49d7-e74d-b33fb5826168",
        "colab": {
          "base_uri": "https://localhost:8080/",
          "height": 36
        }
      },
      "source": [
        "array + 5"
      ],
      "execution_count": 0,
      "outputs": [
        {
          "output_type": "execute_result",
          "data": {
            "text/plain": [
              "array([6, 7, 9])"
            ]
          },
          "metadata": {
            "tags": []
          },
          "execution_count": 5
        }
      ]
    },
    {
      "cell_type": "markdown",
      "metadata": {
        "id": "EKqA9eq5eBU6",
        "colab_type": "text"
      },
      "source": [
        "Мы можем выполнять поэлементные операции на массивах одинаковой длины."
      ]
    },
    {
      "cell_type": "code",
      "metadata": {
        "id": "nX165dp2d-K0",
        "colab_type": "code",
        "colab": {}
      },
      "source": [
        "array_2 = np.array([9, 2, 0])"
      ],
      "execution_count": 0,
      "outputs": []
    },
    {
      "cell_type": "code",
      "metadata": {
        "id": "fq25PgpzeQhb",
        "colab_type": "code",
        "outputId": "2e86c35e-0666-4f4d-d4ef-b82953f4ea84",
        "colab": {
          "base_uri": "https://localhost:8080/",
          "height": 36
        }
      },
      "source": [
        "array + array_2"
      ],
      "execution_count": 0,
      "outputs": [
        {
          "output_type": "execute_result",
          "data": {
            "text/plain": [
              "array([10,  4,  4])"
            ]
          },
          "metadata": {
            "tags": []
          },
          "execution_count": 7
        }
      ]
    },
    {
      "cell_type": "code",
      "metadata": {
        "id": "gxThb245eRoZ",
        "colab_type": "code",
        "outputId": "5c2a5bb2-6f78-4c0a-b0db-758942165834",
        "colab": {
          "base_uri": "https://localhost:8080/",
          "height": 36
        }
      },
      "source": [
        "array * array_2"
      ],
      "execution_count": 0,
      "outputs": [
        {
          "output_type": "execute_result",
          "data": {
            "text/plain": [
              "array([9, 4, 0])"
            ]
          },
          "metadata": {
            "tags": []
          },
          "execution_count": 8
        }
      ]
    },
    {
      "cell_type": "markdown",
      "metadata": {
        "id": "pa5TZo2leYmC",
        "colab_type": "text"
      },
      "source": [
        "С массивами можно работать как с листами и вытаскивать оттуда элементы по индексу. В тоже время, можно использовать индексацию по условию и вытаскивать элементы с помощью булевой маски."
      ]
    },
    {
      "cell_type": "code",
      "metadata": {
        "id": "Y0fVJZnneTIe",
        "colab_type": "code",
        "outputId": "6c16ce25-bde4-489a-9708-e73db456e40d",
        "colab": {
          "base_uri": "https://localhost:8080/",
          "height": 36
        }
      },
      "source": [
        "array[1]"
      ],
      "execution_count": 0,
      "outputs": [
        {
          "output_type": "execute_result",
          "data": {
            "text/plain": [
              "2"
            ]
          },
          "metadata": {
            "tags": []
          },
          "execution_count": 9
        }
      ]
    },
    {
      "cell_type": "code",
      "metadata": {
        "id": "CXhnH8rTfJQM",
        "colab_type": "code",
        "outputId": "5079b47d-b0de-462c-b9e3-8dee1761d318",
        "colab": {
          "base_uri": "https://localhost:8080/",
          "height": 36
        }
      },
      "source": [
        "array[1:]"
      ],
      "execution_count": 0,
      "outputs": [
        {
          "output_type": "execute_result",
          "data": {
            "text/plain": [
              "array([2, 4])"
            ]
          },
          "metadata": {
            "tags": []
          },
          "execution_count": 11
        }
      ]
    },
    {
      "cell_type": "code",
      "metadata": {
        "id": "35Rxh_3mfKGH",
        "colab_type": "code",
        "outputId": "ca29a61e-5a64-4d95-ca50-f3984262c7cc",
        "colab": {
          "base_uri": "https://localhost:8080/",
          "height": 55
        }
      },
      "source": [
        "print(array_2 > 0)\n",
        "print(array[array_2 > 0])"
      ],
      "execution_count": 0,
      "outputs": [
        {
          "output_type": "stream",
          "text": [
            "[ True  True False]\n",
            "[1 2]\n"
          ],
          "name": "stdout"
        }
      ]
    },
    {
      "cell_type": "markdown",
      "metadata": {
        "id": "2eHjjE2BfT0W",
        "colab_type": "text"
      },
      "source": [
        "В numpy можно работать не только с векторами, но и с матрицами и массивами большей размерности. Давайте создадим матрицу, которая состоит из одних единиц."
      ]
    },
    {
      "cell_type": "code",
      "metadata": {
        "id": "OKZib4W_f6I6",
        "colab_type": "code",
        "colab": {}
      },
      "source": [
        "matrix = np.ones((2, 4))"
      ],
      "execution_count": 0,
      "outputs": []
    },
    {
      "cell_type": "code",
      "metadata": {
        "id": "ehCH_pHQf-jM",
        "colab_type": "code",
        "outputId": "4c789c30-8e43-40e9-f048-84f7dc7f3060",
        "colab": {
          "base_uri": "https://localhost:8080/",
          "height": 36
        }
      },
      "source": [
        "matrix.shape"
      ],
      "execution_count": 0,
      "outputs": [
        {
          "output_type": "execute_result",
          "data": {
            "text/plain": [
              "(2, 4)"
            ]
          },
          "metadata": {
            "tags": []
          },
          "execution_count": 16
        }
      ]
    },
    {
      "cell_type": "code",
      "metadata": {
        "id": "l9Obz8oVfN0Y",
        "colab_type": "code",
        "outputId": "9067bf46-2f04-4eb3-fa04-5256338cf56b",
        "colab": {
          "base_uri": "https://localhost:8080/",
          "height": 55
        }
      },
      "source": [
        "matrix"
      ],
      "execution_count": 0,
      "outputs": [
        {
          "output_type": "execute_result",
          "data": {
            "text/plain": [
              "array([[1., 1., 1., 1.],\n",
              "       [1., 1., 1., 1.]])"
            ]
          },
          "metadata": {
            "tags": []
          },
          "execution_count": 17
        }
      ]
    },
    {
      "cell_type": "markdown",
      "metadata": {
        "id": "mWURgYoggDZk",
        "colab_type": "text"
      },
      "source": [
        "Над матрицами мы можем выполнять все те же операции, что и над векторами. Также мы можем считать среднее, сумму как по всем элементам, так и вдоль осей."
      ]
    },
    {
      "cell_type": "code",
      "metadata": {
        "id": "WcbxWEXOglhb",
        "colab_type": "code",
        "outputId": "fb2a01a9-bf3c-40c4-cc50-db760487a880",
        "colab": {
          "base_uri": "https://localhost:8080/",
          "height": 36
        }
      },
      "source": [
        "np.sum(matrix)"
      ],
      "execution_count": 0,
      "outputs": [
        {
          "output_type": "execute_result",
          "data": {
            "text/plain": [
              "8.0"
            ]
          },
          "metadata": {
            "tags": []
          },
          "execution_count": 18
        }
      ]
    },
    {
      "cell_type": "code",
      "metadata": {
        "id": "ZROV-p9bgAsQ",
        "colab_type": "code",
        "outputId": "513be0a6-ba4c-40f2-d3f6-df4d0fb4645b",
        "colab": {
          "base_uri": "https://localhost:8080/",
          "height": 36
        }
      },
      "source": [
        "np.sum(matrix, axis=1)"
      ],
      "execution_count": 0,
      "outputs": [
        {
          "output_type": "execute_result",
          "data": {
            "text/plain": [
              "array([4., 4.])"
            ]
          },
          "metadata": {
            "tags": []
          },
          "execution_count": 19
        }
      ]
    },
    {
      "cell_type": "markdown",
      "metadata": {
        "id": "_pFZXDusgxC4",
        "colab_type": "text"
      },
      "source": [
        "Можем создавать случайный матрицы."
      ]
    },
    {
      "cell_type": "code",
      "metadata": {
        "id": "Sr6ZfKD_g5jU",
        "colab_type": "code",
        "outputId": "76d10470-d669-41c7-f8f3-3913cff4dd23",
        "colab": {
          "base_uri": "https://localhost:8080/",
          "height": 55
        }
      },
      "source": [
        "random_matrix = np.random.normal(size=(2, 2))\n",
        "random_matrix"
      ],
      "execution_count": 0,
      "outputs": [
        {
          "output_type": "execute_result",
          "data": {
            "text/plain": [
              "array([[-0.15202536,  0.04675802],\n",
              "       [ 0.60686314, -0.45267678]])"
            ]
          },
          "metadata": {
            "tags": []
          },
          "execution_count": 22
        }
      ]
    },
    {
      "cell_type": "markdown",
      "metadata": {
        "id": "RjrpBmwzhAjk",
        "colab_type": "text"
      },
      "source": [
        "Можем умножать матрицы и выполнять различные операции линейной алгебры."
      ]
    },
    {
      "cell_type": "code",
      "metadata": {
        "id": "GSmVh5K_gwek",
        "colab_type": "code",
        "outputId": "280857a5-94b7-4056-e701-da019645fcdb",
        "colab": {
          "base_uri": "https://localhost:8080/",
          "height": 92
        }
      },
      "source": [
        "matrix.T @ random_matrix"
      ],
      "execution_count": 0,
      "outputs": [
        {
          "output_type": "execute_result",
          "data": {
            "text/plain": [
              "array([[ 0.45483778, -0.40591875],\n",
              "       [ 0.45483778, -0.40591875],\n",
              "       [ 0.45483778, -0.40591875],\n",
              "       [ 0.45483778, -0.40591875]])"
            ]
          },
          "metadata": {
            "tags": []
          },
          "execution_count": 25
        }
      ]
    },
    {
      "cell_type": "code",
      "metadata": {
        "id": "AaXCC7TcgqdJ",
        "colab_type": "code",
        "outputId": "4df921c7-1eee-4b53-8ceb-e5c7d618d433",
        "colab": {
          "base_uri": "https://localhost:8080/",
          "height": 36
        }
      },
      "source": [
        "np.linalg.det(random_matrix)"
      ],
      "execution_count": 0,
      "outputs": [
        {
          "output_type": "execute_result",
          "data": {
            "text/plain": [
              "0.040442629348055266"
            ]
          },
          "metadata": {
            "tags": []
          },
          "execution_count": 26
        }
      ]
    },
    {
      "cell_type": "code",
      "metadata": {
        "id": "gMnfvqjjhb_J",
        "colab_type": "code",
        "outputId": "f999bbe2-055c-494e-e98f-4df7c98f69fb",
        "colab": {
          "base_uri": "https://localhost:8080/",
          "height": 36
        }
      },
      "source": [
        "np.linalg.matrix_rank(random_matrix)"
      ],
      "execution_count": 0,
      "outputs": [
        {
          "output_type": "execute_result",
          "data": {
            "text/plain": [
              "2"
            ]
          },
          "metadata": {
            "tags": []
          },
          "execution_count": 27
        }
      ]
    },
    {
      "cell_type": "code",
      "metadata": {
        "id": "YY3PGlYVhvHR",
        "colab_type": "code",
        "colab": {}
      },
      "source": [
        ""
      ],
      "execution_count": 0,
      "outputs": []
    }
  ]
}