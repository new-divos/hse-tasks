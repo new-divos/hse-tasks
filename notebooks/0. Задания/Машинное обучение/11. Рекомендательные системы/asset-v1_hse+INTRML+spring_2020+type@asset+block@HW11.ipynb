{
  "nbformat": 4,
  "nbformat_minor": 0,
  "metadata": {
    "colab": {
      "name": "HW11.ipynb",
      "provenance": [],
      "collapsed_sections": [],
      "machine_shape": "hm"
    },
    "kernelspec": {
      "name": "python3",
      "display_name": "Python 3"
    }
  },
  "cells": [
    {
      "cell_type": "markdown",
      "metadata": {
        "id": "ychQcodwwgfp",
        "colab_type": "text"
      },
      "source": [
        "В этом задании мы найдем похожие фильмы и пользователей по алгоритму ALS, реализуем подсчет метрики NDCG и исследуем влияние размерности скрытых представлений на работу алгоритма."
      ]
    },
    {
      "cell_type": "markdown",
      "metadata": {
        "id": "KGJjO0IwxAfE",
        "colab_type": "text"
      },
      "source": [
        "Загрузим данные и модели из семинара:\n",
        "\n",
        "**Важно: не изменяйте код до задания 1!**"
      ]
    },
    {
      "cell_type": "code",
      "metadata": {
        "id": "HLW7bd6zw9zr",
        "colab_type": "code",
        "colab": {}
      },
      "source": [
        "import zipfile\n",
        "from collections import defaultdict, Counter\n",
        "import datetime\n",
        "\n",
        "from scipy import linalg\n",
        "import numpy as np"
      ],
      "execution_count": 0,
      "outputs": []
    },
    {
      "cell_type": "code",
      "metadata": {
        "id": "zEjB8eDVxLHT",
        "colab_type": "code",
        "outputId": "e06eaad1-e0a1-4acc-911e-f9af2b338ebc",
        "colab": {
          "base_uri": "https://localhost:8080/",
          "height": 204
        }
      },
      "source": [
        "!wget http://files.grouplens.org/datasets/movielens/ml-1m.zip"
      ],
      "execution_count": 0,
      "outputs": [
        {
          "output_type": "stream",
          "text": [
            "--2020-04-11 11:04:54--  http://files.grouplens.org/datasets/movielens/ml-1m.zip\n",
            "Resolving files.grouplens.org (files.grouplens.org)... 128.101.65.152\n",
            "Connecting to files.grouplens.org (files.grouplens.org)|128.101.65.152|:80... connected.\n",
            "HTTP request sent, awaiting response... 200 OK\n",
            "Length: 5917549 (5.6M) [application/zip]\n",
            "Saving to: ‘ml-1m.zip.1’\n",
            "\n",
            "\rml-1m.zip.1           0%[                    ]       0  --.-KB/s               \rml-1m.zip.1         100%[===================>]   5.64M  30.8MB/s    in 0.2s    \n",
            "\n",
            "2020-04-11 11:04:54 (30.8 MB/s) - ‘ml-1m.zip.1’ saved [5917549/5917549]\n",
            "\n"
          ],
          "name": "stdout"
        }
      ]
    },
    {
      "cell_type": "code",
      "metadata": {
        "id": "CtB8oYg7qBzn",
        "colab_type": "code",
        "colab": {}
      },
      "source": [
        "# read data\n",
        "movies = {} # id\n",
        "users = {} # id\n",
        "ratings = defaultdict(list) # user-id\n",
        "\n",
        "with zipfile.ZipFile(\"ml-1m.zip\", \"r\") as z:\n",
        "    # parse movies\n",
        "    with z.open(\"ml-1m/movies.dat\") as m:\n",
        "        for line in m:\n",
        "            MovieID, Title, Genres = line.decode('iso-8859-1').strip().split(\"::\")\n",
        "            MovieID = int(MovieID)\n",
        "            Genres = Genres.split(\"|\")\n",
        "            movies[MovieID] = {\"Title\": Title, \"Genres\": Genres}\n",
        "    \n",
        "    # parse users\n",
        "    with z.open(\"ml-1m/users.dat\") as m:\n",
        "        fields = [\"UserID\", \"Gender\", \"Age\", \"Occupation\", \"Zip-code\"]\n",
        "        for line in m:\n",
        "            row = list(zip(fields, line.decode('iso-8859-1').strip().split(\"::\")))\n",
        "            data = dict(row[1:])\n",
        "            data[\"Occupation\"] = int(data[\"Occupation\"])\n",
        "            users[int(row[0][1])] = data\n",
        "    \n",
        "    # parse ratings\n",
        "    with z.open(\"ml-1m/ratings.dat\") as m:\n",
        "        for line in m:\n",
        "            UserID, MovieID, Rating, Timestamp = line.decode('iso-8859-1').strip().split(\"::\")\n",
        "            UserID = int(UserID)\n",
        "            MovieID = int(MovieID)\n",
        "            Rating = int(Rating)\n",
        "            Timestamp = int(Timestamp)\n",
        "            ratings[UserID].append((MovieID, Rating, datetime.datetime.fromtimestamp(Timestamp)))"
      ],
      "execution_count": 0,
      "outputs": []
    },
    {
      "cell_type": "code",
      "metadata": {
        "id": "x-JKj56U3myp",
        "colab_type": "code",
        "outputId": "d646575e-8605-49e8-ff98-c630beab9bb4",
        "colab": {
          "base_uri": "https://localhost:8080/",
          "height": 51
        }
      },
      "source": [
        "# train-test split\n",
        "times = []\n",
        "for user_ratings in ratings.values():\n",
        "  times.extend([x[2] for x in user_ratings])\n",
        "times = sorted(times)\n",
        "threshold_time = times[int(0.8 * len(times))]\n",
        "\n",
        "train = []\n",
        "test = []\n",
        "for user_id, user_ratings in ratings.items():\n",
        "    train.extend((user_id, rating[0], rating[1] / 5.0) for rating in user_ratings if rating[2] <= threshold_time)\n",
        "    test.extend((user_id, rating[0], rating[1] / 5.0) for rating in user_ratings if rating[2] > threshold_time)\n",
        "print(\"ratings in train:\", len(train))\n",
        "print(\"ratings in test:\", len(test))"
      ],
      "execution_count": 0,
      "outputs": [
        {
          "output_type": "stream",
          "text": [
            "ratings in train: 800168\n",
            "ratings in test: 200041\n"
          ],
          "name": "stdout"
        }
      ]
    },
    {
      "cell_type": "code",
      "metadata": {
        "id": "RNp-TT5M5JxM",
        "colab_type": "code",
        "colab": {}
      },
      "source": [
        "train_by_user = defaultdict(list)\n",
        "test_by_user = defaultdict(list)\n",
        "for u, i, r in train:\n",
        "    train_by_user[u].append((i, r))\n",
        "for u, i, r in test:\n",
        "    test_by_user[u].append((i, r))\n",
        "\n",
        "train_by_item = defaultdict(list)\n",
        "for u, i, r in train:\n",
        "    train_by_item[i].append((u, r))\n",
        "\n",
        "n_users = max([e[0] for e in train]) + 1\n",
        "n_items = max([e[1] for e in train]) + 1"
      ],
      "execution_count": 0,
      "outputs": []
    },
    {
      "cell_type": "code",
      "metadata": {
        "id": "uUOWdv1nraZ0",
        "colab_type": "code",
        "outputId": "961df2df-4406-43f9-89d9-da3a1fc41201",
        "colab": {
          "base_uri": "https://localhost:8080/",
          "height": 391
        }
      },
      "source": [
        "%%time\n",
        "# Реализация ALS из семинара\n",
        "np.random.seed(0)\n",
        "LATENT_SIZE = 10\n",
        "N_ITER = 20\n",
        "\n",
        "# регуляризаторы\n",
        "lambda_p = 0.2\n",
        "lambda_q = 0.001\n",
        "\n",
        "# латентные представления\n",
        "p = 0.1 * np.random.random((n_users, LATENT_SIZE))\n",
        "q = 0.1 * np.random.random((n_items, LATENT_SIZE))\n",
        "\n",
        "\n",
        "def compute_p(p, q, train_by_user):\n",
        "    for u, rated in train_by_user.items():\n",
        "        rated_items = [i for i, _ in rated]\n",
        "        rated_scores = np.array([r for _, r in rated])\n",
        "        Q = q[rated_items, :]\n",
        "        A = (Q.T).dot(Q)\n",
        "        d = (Q.T).dot(rated_scores)\n",
        "        p[u, :] = np.linalg.solve(lambda_p * len(rated_items) * np.eye(LATENT_SIZE) + A, d)\n",
        "    return p\n",
        "\n",
        "def compute_q(p, q, train_by_item):\n",
        "    for i, rated in train_by_item.items():\n",
        "        rated_users = [j for j, _ in rated]\n",
        "        rated_scores = np.array([s for _, s in rated])\n",
        "        P = p[rated_users, :]\n",
        "        A = (P.T).dot(P)\n",
        "        d = (P.T).dot(rated_scores)\n",
        "        q[i, :] = np.linalg.solve(lambda_q * len(rated_users) * np.eye(LATENT_SIZE) + A, d)\n",
        "    return q\n",
        "\n",
        "def train_error_mse(predictions):\n",
        "    return np.mean([(predictions[u, i] - r) ** 2 for u, i, r in train])\n",
        "\n",
        "def test_error_mse(predictions):\n",
        "    return np.mean([(predictions[u, i] - r) ** 2 for u, i, r in test])\n",
        "\n",
        "\n",
        "for iter in range(N_ITER):\n",
        "    p = compute_p(p, q, train_by_user)\n",
        "    q = compute_q(p, q, train_by_item)\n",
        "\n",
        "    predictions = p.dot(q.T)\n",
        "    \n",
        "    print(iter, train_error_mse(predictions), test_error_mse(predictions))"
      ],
      "execution_count": 0,
      "outputs": [
        {
          "output_type": "stream",
          "text": [
            "0 0.0344334690861757 0.16142106707918116\n",
            "1 0.030925229975576438 0.1511428839681103\n",
            "2 0.027206288938454132 0.14341298721842055\n",
            "3 0.02583503158406015 0.13655358657811484\n",
            "4 0.025314506735425003 0.13032705486783852\n",
            "5 0.025063752785529404 0.12476248689359944\n",
            "6 0.02491776368803391 0.11979914289568631\n",
            "7 0.024821356024577045 0.11535550678315648\n",
            "8 0.024751552893645588 0.11135998098577897\n",
            "9 0.02469796840514177 0.10775480185509032\n",
            "10 0.02465607104695503 0.10449331584790406\n",
            "11 0.024623782693958228 0.10153706983043574\n",
            "12 0.024599690608500504 0.09885370381385042\n",
            "13 0.024582376528332586 0.09641539644441337\n",
            "14 0.024570348059326085 0.09419784710236195\n",
            "15 0.024562231056542122 0.092179577634692\n",
            "16 0.024556910947100424 0.09034140941142477\n",
            "17 0.024553554068415657 0.0886661181062783\n",
            "18 0.0245515658400148 0.08713821286740218\n",
            "19 0.02455053332519555 0.08574377365334486\n",
            "CPU times: user 1min 5s, sys: 1min 17s, total: 2min 23s\n",
            "Wall time: 49.6 s\n"
          ],
          "name": "stdout"
        }
      ]
    },
    {
      "cell_type": "markdown",
      "metadata": {
        "id": "jHSZg06G6nzZ",
        "colab_type": "text"
      },
      "source": [
        "## Задание 1\n",
        "\n",
        "Для фильма \"Star Wars: Episode V - The Empire Strikes Back (1980)\" найдите 3 самых похожих фильма: \n",
        "* посчитайте скалярное произведение его эмбеддинга с остальными фильмами;\n",
        "* найдите максимальные значения - они будут соответствовать ближайшим фильмам;\n",
        "* вычислите значение id_top1+id_top2+id_top3.\n",
        "\n",
        "Для решения задания вам пригодится словарь со всеми фильмами `movies`"
      ]
    },
    {
      "cell_type": "code",
      "metadata": {
        "id": "s0C7tKokDAin",
        "colab_type": "code",
        "colab": {}
      },
      "source": [
        ""
      ],
      "execution_count": 0,
      "outputs": []
    },
    {
      "cell_type": "markdown",
      "metadata": {
        "id": "DIqC8Vvc61oZ",
        "colab_type": "text"
      },
      "source": [
        "## Задание 2\n",
        "\n",
        "Для пользователя с ID=5472:\n",
        "\n",
        "* Найдите самого похожего, аналогично предыдущему заданию;\n",
        "* Определите количество фильмов, просмотренных обоими пользователями."
      ]
    },
    {
      "cell_type": "code",
      "metadata": {
        "id": "I-nrhZhJJsA3",
        "colab_type": "code",
        "colab": {}
      },
      "source": [
        ""
      ],
      "execution_count": 0,
      "outputs": []
    },
    {
      "cell_type": "markdown",
      "metadata": {
        "id": "Ii1vd6YQ61rc",
        "colab_type": "text"
      },
      "source": [
        "## Задание 3\n",
        "\n",
        "На лекции была рассмотрена метрика для измерения качества работы рекомендательной системы NDCG. Вам необходимо реализовать подсчет DCG и NDCG и вывести значения из клетки ниже; ответ округлите до тысячных."
      ]
    },
    {
      "cell_type": "code",
      "metadata": {
        "id": "LaBKmDX_MpUM",
        "colab_type": "code",
        "colab": {}
      },
      "source": [
        "def DCG_k(ratings_list, k):\n",
        "    '''\n",
        "      ratings_list: np.array(n_items,)\n",
        "      k: int\n",
        "    '''\n",
        "    pass\n",
        "\n",
        "\n",
        "def NDCG_k(r, k):\n",
        "    '''\n",
        "      ratings_list: np.array(n_items,)\n",
        "      k: int\n",
        "    '''\n",
        "    pass\n",
        "    \n",
        "NDCG_k([5, 5, 4, 5, 2, 4, 5, 3, 5, 5, 2, 3, 0, 0, 1, 2, 2, 3, 0], 5)"
      ],
      "execution_count": 0,
      "outputs": []
    }
  ]
}