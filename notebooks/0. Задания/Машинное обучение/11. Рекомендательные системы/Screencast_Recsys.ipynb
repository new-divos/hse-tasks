{
  "nbformat": 4,
  "nbformat_minor": 0,
  "metadata": {
    "colab": {
      "name": "Screencast_Recsys.ipynb",
      "provenance": [],
      "collapsed_sections": [],
      "machine_shape": "hm"
    },
    "kernelspec": {
      "name": "python3",
      "display_name": "Python 3"
    }
  },
  "cells": [
    {
      "cell_type": "markdown",
      "metadata": {
        "id": "oNqRKj5c4AXO"
      },
      "source": [
        "## Рекомендательные системы"
      ]
    },
    {
      "cell_type": "markdown",
      "metadata": {
        "id": "ychQcodwwgfp"
      },
      "source": [
        "В этом ноутбуке мы применим алгоритм коллаборативной фильтрации на item-base подходе. Работать мы будем с датасетом MovieLens, который содержит в себе информацию об оценках фильмов пользователями одноименного сайта."
      ]
    },
    {
      "cell_type": "markdown",
      "metadata": {
        "id": "KGJjO0IwxAfE"
      },
      "source": [
        "Давайте загрузим необходимые библиотеки."
      ]
    },
    {
      "cell_type": "code",
      "metadata": {
        "id": "HLW7bd6zw9zr"
      },
      "source": [
        "import zipfile\n",
        "from collections import defaultdict, Counter\n",
        "import datetime\n",
        "\n",
        "from scipy import linalg\n",
        "import scipy.sparse as sps\n",
        "import numpy as np\n",
        "import matplotlib.pyplot as plt"
      ],
      "execution_count": null,
      "outputs": []
    },
    {
      "cell_type": "markdown",
      "metadata": {
        "id": "EPk20xPhxJt1"
      },
      "source": [
        "Скачаем данные"
      ]
    },
    {
      "cell_type": "code",
      "metadata": {
        "id": "zEjB8eDVxLHT",
        "colab": {
          "base_uri": "https://localhost:8080/",
          "height": 204
        },
        "outputId": "1a96bc9a-774e-4836-e7ad-589ca37f6855"
      },
      "source": [
        "!wget http://files.grouplens.org/datasets/movielens/ml-1m.zip"
      ],
      "execution_count": null,
      "outputs": [
        {
          "output_type": "stream",
          "text": [
            "--2020-04-11 16:21:20--  http://files.grouplens.org/datasets/movielens/ml-1m.zip\n",
            "Resolving files.grouplens.org (files.grouplens.org)... 128.101.65.152\n",
            "Connecting to files.grouplens.org (files.grouplens.org)|128.101.65.152|:80... connected.\n",
            "HTTP request sent, awaiting response... 200 OK\n",
            "Length: 5917549 (5.6M) [application/zip]\n",
            "Saving to: ‘ml-1m.zip’\n",
            "\n",
            "\rml-1m.zip             0%[                    ]       0  --.-KB/s               \rml-1m.zip            15%[==>                 ] 885.81K  3.96MB/s               \rml-1m.zip           100%[===================>]   5.64M  18.2MB/s    in 0.3s    \n",
            "\n",
            "2020-04-11 16:21:21 (18.2 MB/s) - ‘ml-1m.zip’ saved [5917549/5917549]\n",
            "\n"
          ],
          "name": "stdout"
        }
      ]
    },
    {
      "cell_type": "markdown",
      "metadata": {
        "id": "yWUPKaVkxSm4"
      },
      "source": [
        "Распакуем данные и посмотрим, как они устроены."
      ]
    },
    {
      "cell_type": "code",
      "metadata": {
        "id": "r_c6cxrl0x5_",
        "colab": {
          "base_uri": "https://localhost:8080/",
          "height": 153
        },
        "outputId": "8d680a1e-65a5-4a07-83a3-ee4b36372b1f"
      },
      "source": [
        "with zipfile.ZipFile(\"ml-1m.zip\", \"r\") as z:\n",
        "    print(\"files in archive\")\n",
        "    print(z.namelist())\n",
        "    print(\"movies\")\n",
        "    with z.open(\"ml-1m/movies.dat\") as m:\n",
        "        print(str(m.readline()).split(\"::\"))\n",
        "    print(\"users\")\n",
        "    with z.open(\"ml-1m/users.dat\") as m:\n",
        "        print(str(m.readline()).split(\"::\"))\n",
        "    print(\"ratings\")\n",
        "    with z.open(\"ml-1m/ratings.dat\") as m:\n",
        "        print(str(m.readline()).split(\"::\"))"
      ],
      "execution_count": null,
      "outputs": [
        {
          "output_type": "stream",
          "text": [
            "files in archive\n",
            "['ml-1m/', 'ml-1m/movies.dat', 'ml-1m/ratings.dat', 'ml-1m/README', 'ml-1m/users.dat']\n",
            "movies\n",
            "['b\"1', 'Toy Story (1995)', 'Animation|Children\\'s|Comedy\\\\n\"']\n",
            "users\n",
            "[\"b'1\", 'F', '1', '10', \"48067\\\\n'\"]\n",
            "ratings\n",
            "[\"b'1\", '1193', '5', \"978300760\\\\n'\"]\n"
          ],
          "name": "stdout"
        }
      ]
    },
    {
      "cell_type": "markdown",
      "metadata": {
        "id": "aTVoUAir02Cb"
      },
      "source": [
        "Мы видим, что в архиве лежит информация о фильмах. Это movieId фильма, название и жанр. О пользователях нам известен userId, пол (F, M), возраст, закодированная информация о трудоуствройстве и zip-code. И информация о рейтинге: userId, movieId, оценка и момент времени, когда оценка была сделана. Давайте прочитаем данные."
      ]
    },
    {
      "cell_type": "code",
      "metadata": {
        "id": "CtB8oYg7qBzn"
      },
      "source": [
        "# read data\n",
        "movies = {} # id\n",
        "users = {} # id\n",
        "ratings = defaultdict(list) # user-id\n",
        "\n",
        "with zipfile.ZipFile(\"ml-1m.zip\", \"r\") as z:\n",
        "    # parse movies\n",
        "    with z.open(\"ml-1m/movies.dat\") as m:\n",
        "        for line in m:\n",
        "            MovieID, Title, Genres = line.decode('iso-8859-1').strip().split(\"::\")\n",
        "            MovieID = int(MovieID)\n",
        "            Genres = Genres.split(\"|\")\n",
        "            movies[MovieID] = {\"Title\": Title, \"Genres\": Genres}\n",
        "    \n",
        "    # parse users\n",
        "    with z.open(\"ml-1m/users.dat\") as m:\n",
        "        fields = [\"UserID\", \"Gender\", \"Age\", \"Occupation\", \"Zip-code\"]\n",
        "        for line in m:\n",
        "            row = list(zip(fields, line.decode('iso-8859-1').strip().split(\"::\")))\n",
        "            data = dict(row[1:])\n",
        "            data[\"Occupation\"] = int(data[\"Occupation\"])\n",
        "            users[int(row[0][1])] = data\n",
        "    \n",
        "    # parse ratings\n",
        "    with z.open(\"ml-1m/ratings.dat\") as m:\n",
        "        for line in m:\n",
        "            UserID, MovieID, Rating, Timestamp = line.decode('iso-8859-1').strip().split(\"::\")\n",
        "            UserID = int(UserID)\n",
        "            MovieID = int(MovieID)\n",
        "            Rating = int(Rating)\n",
        "            Timestamp = int(Timestamp)\n",
        "            ratings[UserID].append((MovieID, Rating, datetime.datetime.fromtimestamp(Timestamp)))"
      ],
      "execution_count": null,
      "outputs": []
    },
    {
      "cell_type": "markdown",
      "metadata": {
        "id": "zb4bgay23z5f"
      },
      "source": [
        "Посмотрим на данные"
      ]
    },
    {
      "cell_type": "code",
      "metadata": {
        "id": "CuTfmpcI3Oal",
        "colab": {
          "base_uri": "https://localhost:8080/",
          "height": 71
        },
        "outputId": "a75f1e05-b1fe-4317-a30a-603d3c0d00d6"
      },
      "source": [
        "print(users[3])\n",
        "print(ratings[3])"
      ],
      "execution_count": null,
      "outputs": [
        {
          "output_type": "stream",
          "text": [
            "{'Gender': 'M', 'Age': '25', 'Occupation': 15, 'Zip-code': '55117'}\n",
            "[(3421, 4, datetime.datetime(2000, 12, 31, 21, 29, 7)), (1641, 2, datetime.datetime(2000, 12, 31, 21, 33, 50)), (648, 3, datetime.datetime(2000, 12, 31, 21, 24, 27)), (1394, 4, datetime.datetime(2000, 12, 31, 21, 29, 7)), (3534, 3, datetime.datetime(2000, 12, 31, 21, 11, 8)), (104, 4, datetime.datetime(2000, 12, 31, 21, 34, 46)), (2735, 4, datetime.datetime(2000, 12, 31, 21, 24, 27)), (1210, 4, datetime.datetime(2000, 12, 31, 21, 20)), (1431, 3, datetime.datetime(2000, 12, 31, 21, 11, 35)), (3868, 3, datetime.datetime(2000, 12, 31, 21, 34, 46)), (1079, 5, datetime.datetime(2000, 12, 31, 21, 31, 36)), (2997, 3, datetime.datetime(2000, 12, 31, 21, 29, 7)), (1615, 5, datetime.datetime(2000, 12, 31, 21, 21, 50)), (1291, 4, datetime.datetime(2000, 12, 31, 21, 20)), (1259, 5, datetime.datetime(2000, 12, 31, 21, 31, 36)), (653, 4, datetime.datetime(2000, 12, 31, 21, 22, 37)), (2167, 5, datetime.datetime(2000, 12, 31, 21, 20)), (1580, 3, datetime.datetime(2000, 12, 31, 21, 21, 3)), (3619, 2, datetime.datetime(2000, 12, 31, 21, 30, 1)), (260, 5, datetime.datetime(2000, 12, 31, 21, 18, 32)), (2858, 4, datetime.datetime(2000, 12, 31, 21, 10, 39)), (3114, 3, datetime.datetime(2000, 12, 31, 21, 28, 23)), (1049, 4, datetime.datetime(2000, 12, 31, 21, 23, 25)), (1261, 1, datetime.datetime(2000, 12, 31, 21, 21, 3)), (552, 4, datetime.datetime(2000, 12, 31, 21, 23, 57)), (480, 4, datetime.datetime(2000, 12, 31, 21, 21, 30)), (1265, 2, datetime.datetime(2000, 12, 31, 21, 31, 56)), (1266, 5, datetime.datetime(2000, 12, 31, 21, 16, 36)), (733, 5, datetime.datetime(2000, 12, 31, 21, 22, 37)), (1196, 4, datetime.datetime(2000, 12, 31, 21, 18, 59)), (590, 4, datetime.datetime(2000, 12, 31, 21, 17, 19)), (2355, 5, datetime.datetime(2000, 12, 31, 21, 33, 50)), (1197, 5, datetime.datetime(2000, 12, 31, 21, 19, 30)), (1198, 5, datetime.datetime(2000, 12, 31, 21, 19, 30)), (1378, 5, datetime.datetime(2000, 12, 31, 21, 16, 59)), (593, 3, datetime.datetime(2000, 12, 31, 21, 10, 18)), (1379, 4, datetime.datetime(2000, 12, 31, 21, 16, 59)), (3552, 5, datetime.datetime(2000, 12, 31, 21, 34, 19)), (1304, 5, datetime.datetime(2000, 12, 31, 21, 29, 26)), (1270, 3, datetime.datetime(2000, 12, 31, 21, 30, 31)), (2470, 4, datetime.datetime(2000, 12, 31, 21, 22, 57)), (3168, 4, datetime.datetime(2000, 12, 31, 21, 19, 30)), (2617, 2, datetime.datetime(2000, 12, 31, 21, 23, 57)), (1961, 4, datetime.datetime(2000, 12, 31, 21, 11, 35)), (3671, 5, datetime.datetime(2000, 12, 31, 21, 16, 59)), (2006, 4, datetime.datetime(2000, 12, 31, 21, 22, 37)), (2871, 4, datetime.datetime(2000, 12, 31, 21, 18, 59)), (2115, 4, datetime.datetime(2000, 12, 31, 21, 22, 57)), (1968, 4, datetime.datetime(2000, 12, 31, 21, 11, 8)), (1136, 5, datetime.datetime(2000, 12, 31, 21, 27, 59)), (2081, 4, datetime.datetime(2000, 12, 31, 21, 35, 4))]\n"
          ],
          "name": "stdout"
        }
      ]
    },
    {
      "cell_type": "markdown",
      "metadata": {
        "id": "HiIzOAdn4hdU"
      },
      "source": [
        "Теперь разобьем данные на тренировочную и тестовую выборку. Разбивать будем рейтинги по времени. Для начала найдем дату на которую было выставленно 80% рейтингов в датасете. И все рейтинги, что были до, попадут в train, а остальные в test."
      ]
    },
    {
      "cell_type": "code",
      "metadata": {
        "id": "a-raaLKQ5NcU"
      },
      "source": [
        "times = []\n",
        "for user_ratings in ratings.values():\n",
        "  times.extend([x[2] for x in user_ratings])"
      ],
      "execution_count": null,
      "outputs": []
    },
    {
      "cell_type": "code",
      "metadata": {
        "id": "wgkiECze5ZI_"
      },
      "source": [
        "times = sorted(times)"
      ],
      "execution_count": null,
      "outputs": []
    },
    {
      "cell_type": "code",
      "metadata": {
        "id": "bxt0kai75iYf"
      },
      "source": [
        "threshold_time = times[int(0.8 * len(times))]"
      ],
      "execution_count": null,
      "outputs": []
    },
    {
      "cell_type": "code",
      "metadata": {
        "id": "x-JKj56U3myp",
        "colab": {
          "base_uri": "https://localhost:8080/",
          "height": 51
        },
        "outputId": "94fe9c5e-d4af-4bbf-acea-6e25e8606ae1"
      },
      "source": [
        "train = []\n",
        "test = []\n",
        "for user_id, user_ratings in ratings.items():\n",
        "    train.extend((user_id, rating[0], rating[1] / 5.0) for rating in user_ratings if rating[2] <= threshold_time)\n",
        "    test.extend((user_id, rating[0], rating[1] / 5.0) for rating in user_ratings if rating[2] > threshold_time)\n",
        "print(\"ratings in train:\", len(train))\n",
        "print(\"ratings in test:\", len(test))"
      ],
      "execution_count": null,
      "outputs": [
        {
          "output_type": "stream",
          "text": [
            "ratings in train: 800168\n",
            "ratings in test: 200041\n"
          ],
          "name": "stdout"
        }
      ]
    },
    {
      "cell_type": "markdown",
      "metadata": {
        "id": "vI6qnPa-xt_L"
      },
      "source": [
        "Сейчас мы хотим посчититать похожесть по фильмам. Для этого нам сначала нужно посчитать средний рейтинг каждого пользователя."
      ]
    },
    {
      "cell_type": "code",
      "metadata": {
        "id": "IeBL3nByzR4r"
      },
      "source": [
        "user_average = defaultdict(list)\n",
        "for u, i, r in train:\n",
        "    user_average[u].append(r)\n",
        "for u in user_average.keys():\n",
        "    user_average[u] = sum(user_average[u]) / len(user_average[u])\n",
        "user_average = dict(user_average)"
      ],
      "execution_count": null,
      "outputs": []
    },
    {
      "cell_type": "markdown",
      "metadata": {
        "id": "t0K6XJO10vyc"
      },
      "source": [
        "Вычтем среднее и посчитаем норму по каждому item'y"
      ]
    },
    {
      "cell_type": "code",
      "metadata": {
        "id": "TtMrFg8v67Ko"
      },
      "source": [
        "item_norms = defaultdict(float)\n",
        "for u, i, r in train:\n",
        "    item_norms[i] += (r - user_average[u]) ** 2\n",
        "for i in item_norms.keys():\n",
        "    item_norms[i] = item_norms[i] ** 0.5\n",
        "item_norms = dict(item_norms)"
      ],
      "execution_count": null,
      "outputs": []
    },
    {
      "cell_type": "markdown",
      "metadata": {
        "id": "yn2To7gZ1Bqb"
      },
      "source": [
        "Посчитаем обновленную матрицу рейтингов, где из каждого рейтинга вычтем среднюю оценку по пользователю и поделим на норму вектора фильма."
      ]
    },
    {
      "cell_type": "code",
      "metadata": {
        "id": "NTRuiODC04Bg"
      },
      "source": [
        "item_user = sps.csc_matrix(\n",
        "    ([(r - user_average[u]) / (item_norms[i] + 1e-6) for u, i, r in train],\n",
        "    ([e[1] for e in train], [e[0] for e in train]))\n",
        ")"
      ],
      "execution_count": null,
      "outputs": []
    },
    {
      "cell_type": "markdown",
      "metadata": {
        "id": "KOfkJAFt1Uf-"
      },
      "source": [
        "В конечном итоге, мы можем посчитать матрицу похожести фильмов через скалярное произведение."
      ]
    },
    {
      "cell_type": "code",
      "metadata": {
        "id": "W-vz9-x-1TdW"
      },
      "source": [
        "item_item_similarity = item_user.dot(item_user.transpose())"
      ],
      "execution_count": null,
      "outputs": []
    },
    {
      "cell_type": "markdown",
      "metadata": {
        "id": "tbj6zhu_2KOY"
      },
      "source": [
        "Давайте обнулим те похожести, которые меньше 0. Это означает, что если угол между векторами больше 90 градусов, то мы считаем их совсем не похожими."
      ]
    },
    {
      "cell_type": "code",
      "metadata": {
        "id": "u4YU4f5C1ngw"
      },
      "source": [
        "item_item_similarity[item_item_similarity < 0] = 0"
      ],
      "execution_count": null,
      "outputs": []
    },
    {
      "cell_type": "code",
      "metadata": {
        "id": "Qc9CbtQZ2XPd"
      },
      "source": [
        "train_by_user = defaultdict(list)\n",
        "test_by_user = defaultdict(list)\n",
        "for u, i, r in train:\n",
        "    train_by_user[u].append((i, r))\n",
        "for u, i, r in test:\n",
        "    test_by_user[u].append((i, r))"
      ],
      "execution_count": null,
      "outputs": []
    },
    {
      "cell_type": "markdown",
      "metadata": {
        "id": "aE4HeGhJ6ezY"
      },
      "source": [
        "Давайте построим рекомендацию для некоторого пользователя. Например с id=6040. Вытащим из обучающей части его рейтинги."
      ]
    },
    {
      "cell_type": "code",
      "metadata": {
        "id": "FY43xYya6eLv"
      },
      "source": [
        "user_id = 6040\n",
        "user_ratings = train_by_user[user_id]\n",
        "\n",
        "user_rated_items = [e[0] for e in user_ratings]\n",
        "user_rated_ratings = sps.csr_matrix([[e[1]] for e in user_ratings])"
      ],
      "execution_count": null,
      "outputs": []
    },
    {
      "cell_type": "markdown",
      "metadata": {
        "id": "ypyXMhV_7nz_"
      },
      "source": [
        "Найдем столбцы в матрице похожести, которые соответствуют оцененным фильмам."
      ]
    },
    {
      "cell_type": "code",
      "metadata": {
        "id": "kaDk--bZ60e2"
      },
      "source": [
        "similar_items = item_item_similarity[:, user_rated_items]"
      ],
      "execution_count": null,
      "outputs": []
    },
    {
      "cell_type": "markdown",
      "metadata": {
        "id": "nlGjlaS18xg9"
      },
      "source": [
        "Теперь мы смешаем пользовательские рейтинги с весами похожести фильмов и таким образом получим предсказанные рейтинги."
      ]
    },
    {
      "cell_type": "code",
      "metadata": {
        "id": "iKLp-ju27WF2"
      },
      "source": [
        "recoms = similar_items.dot(user_rated_ratings) / (similar_items.sum(axis=1) + 1e-6)"
      ],
      "execution_count": null,
      "outputs": []
    },
    {
      "cell_type": "code",
      "metadata": {
        "id": "nFEGROR378uN",
        "colab": {
          "base_uri": "https://localhost:8080/",
          "height": 136
        },
        "outputId": "6bf8b20b-3c9d-449a-b683-dee8c0686741"
      },
      "source": [
        "recoms"
      ],
      "execution_count": null,
      "outputs": [
        {
          "output_type": "execute_result",
          "data": {
            "text/plain": [
              "matrix([[0.        ],\n",
              "        [0.74819368],\n",
              "        [0.40285119],\n",
              "        ...,\n",
              "        [0.79236067],\n",
              "        [0.76070987],\n",
              "        [0.75454628]])"
            ]
          },
          "metadata": {
            "tags": []
          },
          "execution_count": 19
        }
      ]
    },
    {
      "cell_type": "markdown",
      "metadata": {
        "id": "RDas8Bv8-j9X"
      },
      "source": [
        "Можем посмотреть на рейтинги в тесте этого пользователя и сравнить с предсказанными."
      ]
    },
    {
      "cell_type": "code",
      "metadata": {
        "id": "oDnBbpEO-q-Q"
      },
      "source": [
        "test_user_ratings = test_by_user[user_id]"
      ],
      "execution_count": null,
      "outputs": []
    },
    {
      "cell_type": "code",
      "metadata": {
        "id": "JxLvx5_V-xBc"
      },
      "source": [
        "test_user_rated_items = [e[0] for e in test_user_ratings]\n",
        "test_user_rated_ratings = np.array([[e[1]] for e in test_user_ratings])"
      ],
      "execution_count": null,
      "outputs": []
    },
    {
      "cell_type": "code",
      "metadata": {
        "id": "KuLeyrlIBgrV",
        "colab": {
          "base_uri": "https://localhost:8080/",
          "height": 102
        },
        "outputId": "519a1e0c-53ca-47ca-d9c5-89f067dff893"
      },
      "source": [
        "np.array(recoms[test_user_rated_items, :])[:, 0]"
      ],
      "execution_count": null,
      "outputs": [
        {
          "output_type": "execute_result",
          "data": {
            "text/plain": [
              "array([0.81907084, 0.77952099, 0.7431567 , 0.78205121, 0.8146596 ,\n",
              "       0.75421669, 0.82053979, 0.79268059, 0.77863912, 0.78497366,\n",
              "       0.80319477, 0.82919131, 0.79921779, 0.77875818, 0.72230169,\n",
              "       0.78808294, 0.75104579, 0.76944995, 0.78971198, 0.79084428,\n",
              "       0.71691417, 0.75438915, 0.74879743])"
            ]
          },
          "metadata": {
            "tags": []
          },
          "execution_count": 22
        }
      ]
    },
    {
      "cell_type": "code",
      "metadata": {
        "id": "Znxgt6Q6CsCa",
        "colab": {
          "base_uri": "https://localhost:8080/",
          "height": 51
        },
        "outputId": "dfb47533-71bb-4016-c8dd-705dd2bff530"
      },
      "source": [
        "test_user_rated_ratings[:, 0]"
      ],
      "execution_count": null,
      "outputs": [
        {
          "output_type": "execute_result",
          "data": {
            "text/plain": [
              "array([0.8, 1. , 0.6, 1. , 1. , 0.8, 0.8, 0.8, 0.8, 0.8, 1. , 1. , 0.8,\n",
              "       0.8, 0.6, 0.8, 0.8, 0.8, 0.8, 0.8, 0.6, 0.8, 0.6])"
            ]
          },
          "metadata": {
            "tags": []
          },
          "execution_count": 23
        }
      ]
    },
    {
      "cell_type": "markdown",
      "metadata": {
        "id": "4KRZLU8qDQUi"
      },
      "source": [
        "Хорошо видно, что для тех фильмов, где рейтинг 0.6, предсказанные значения тоже наиболее низкие."
      ]
    },
    {
      "cell_type": "markdown",
      "metadata": {
        "id": "mDVd9IWd9D0U"
      },
      "source": [
        "Посчитаем метрику."
      ]
    },
    {
      "cell_type": "code",
      "metadata": {
        "id": "g944brZT2rg7",
        "colab": {
          "base_uri": "https://localhost:8080/",
          "height": 34
        },
        "outputId": "0ba16931-e416-475d-e323-d2bb9d1b2303"
      },
      "source": [
        "mse = 0\n",
        "COUNT = 0\n",
        "for user, ratings in train_by_user.items():\n",
        "    user_rated_items = [e[0] for e in ratings]\n",
        "    user_rated_ratings = sps.csr_matrix([[e[1]] for e in ratings])\n",
        "    similar_items = item_item_similarity[:, user_rated_items]\n",
        "    recoms = similar_items.dot(user_rated_ratings) / (similar_items.sum(axis=1) + 1e-6)\n",
        "    tbu = test_by_user[user]\n",
        "    test_items = [e[0] for e in tbu]\n",
        "    test_ratings = np.array([[e[1]] for e in tbu])\n",
        "    errors = np.square(recoms[test_items, :] - test_ratings)\n",
        "    mse += sum(errors)\n",
        "    COUNT += len(errors)\n",
        "print(mse / COUNT)"
      ],
      "execution_count": null,
      "outputs": [
        {
          "output_type": "stream",
          "text": [
            "[[0.03749982]]\n"
          ],
          "name": "stdout"
        }
      ]
    },
    {
      "cell_type": "code",
      "metadata": {
        "id": "X6qMgKwfA_wk"
      },
      "source": [
        ""
      ],
      "execution_count": null,
      "outputs": []
    },
    {
      "cell_type": "markdown",
      "metadata": {
        "id": "l6wwTNbPc_E7"
      },
      "source": [
        "## ALS факторизация"
      ]
    },
    {
      "cell_type": "markdown",
      "metadata": {
        "id": "mkkl3NYzqRiv"
      },
      "source": [
        "В этом подходе оценка $r_{ui}$ пользователя $u$, поставленная фильму $i$, ищется как скалярное произведение векторов $p_u$ и $q_i$ в некотором пространстве $\\mathbb{R}^K$ латентных признаков:\n",
        "\n",
        "$$\n",
        "\t\\hat{r}_{ui} = p_u^T q_i \n",
        "$$\n",
        "\n",
        "\n",
        "Иными словами, модель находит пространство признаков, в котором мы описываем и фильмы и пользователей и в котором рейтинг является мерой близости между фильмами и пользователями.\n",
        "\t\n",
        "Для настройки модели будем минимизировать следующую ошибку:\n",
        "\t$$\n",
        "\t\\sum_{(u, i, r_{ui})} (r_{ui} - p_u^T q_i)^2 + \\lambda_{p} p_u^T p_u + \\lambda_{q} q_i^T q_i,\n",
        "\t$$\n",
        "\tгде суммирование ведется по всем тройкам $(u, i, r_{ui})$ выборки, слагаемые с $\\lambda_{p}$ и $\\lambda_{q}$ добавлены для регуляризации.\n"
      ]
    },
    {
      "cell_type": "code",
      "metadata": {
        "id": "ByMsZhx8dDNw"
      },
      "source": [
        "LATENT_SIZE = 10\n",
        "\n",
        "# регуляризаторы\n",
        "lambda_p = 0.2\n",
        "lambda_q = 0.001"
      ],
      "execution_count": null,
      "outputs": []
    },
    {
      "cell_type": "markdown",
      "metadata": {
        "id": "ZSzzU66Ndoj4"
      },
      "source": [
        "\n",
        "\n",
        "Рассмотрим работу алгоритма ALS, продолжая работать с данными Movielens.\n",
        "\n",
        "Посчитаем количество пользователей и фильмов"
      ]
    },
    {
      "cell_type": "code",
      "metadata": {
        "id": "n4-Q9Mmxeuor"
      },
      "source": [
        "n_users = max([e[0] for e in train]) + 1\n",
        "n_items = max([e[1] for e in train]) + 1"
      ],
      "execution_count": null,
      "outputs": []
    },
    {
      "cell_type": "markdown",
      "metadata": {
        "id": "wHMGiQrRmG82"
      },
      "source": [
        "Инициализируем латентные представления для пользователей"
      ]
    },
    {
      "cell_type": "code",
      "metadata": {
        "id": "ackKyutcenze"
      },
      "source": [
        "p = 0.1 * np.random.random((n_users, LATENT_SIZE))\n",
        "q = 0.1 * np.random.random((n_items, LATENT_SIZE))"
      ],
      "execution_count": null,
      "outputs": []
    },
    {
      "cell_type": "markdown",
      "metadata": {
        "id": "IQfdyhVXoLTV"
      },
      "source": [
        "Составим словарь взаимодействий по фильму"
      ]
    },
    {
      "cell_type": "code",
      "metadata": {
        "id": "0Edxk5UHelem"
      },
      "source": [
        "train_by_item = defaultdict(list)\n",
        "for u, i, r in train:\n",
        "    train_by_item[i].append((u, r))"
      ],
      "execution_count": null,
      "outputs": []
    },
    {
      "cell_type": "code",
      "metadata": {
        "id": "jNPyfOL7CeYe"
      },
      "source": [
        ""
      ],
      "execution_count": null,
      "outputs": []
    },
    {
      "cell_type": "markdown",
      "metadata": {
        "id": "4vupJZ-ypSXk"
      },
      "source": [
        "Теперь составим матрицу $P$ из векторов $p_u$ и матрицу $Q$ из векторов $q_i$. Матрицей $Q[u] \\in \\mathbb{R}^{n_u \\times K}$ будем обозначать подматрицу матрицы $Q$ только для товаров, оцененных пользователем $u$, где $n_u$ - количество оценок пользователя $u$.\n",
        "\t\n",
        "Шаг перенастройки $p_u$ при фиксированной матрице $Q$ сводится к настройке ridge-регрессии и выглядит так:\n",
        "\t$$\n",
        "\tA_u = Q[u]^T Q[u] \\\\\n",
        "\td_u = Q[u]^T r_u \\\\\n",
        "\tp_u = (\\lambda_p n_u I + A_u)^{-1} d_u\n",
        "\t$$"
      ]
    },
    {
      "cell_type": "code",
      "metadata": {
        "id": "sTcvR2P4kfSo"
      },
      "source": [
        "def compute_p(p, q, train_by_user):\n",
        "    for u, rated in train_by_user.items():\n",
        "        rated_items = [i for i, _ in rated]\n",
        "        rated_scores = np.array([r for _, r in rated])\n",
        "        Q = q[rated_items, :]\n",
        "        A = (Q.T).dot(Q)\n",
        "        d = (Q.T).dot(rated_scores)\n",
        "        p[u, :] = np.linalg.solve(lambda_p * len(rated_items) * np.eye(LATENT_SIZE) + A, d)\n",
        "    return p\n",
        "\n",
        "p = compute_p(p, q, train_by_user)\n"
      ],
      "execution_count": null,
      "outputs": []
    },
    {
      "cell_type": "code",
      "metadata": {
        "id": "fyW1NAMmEMFk",
        "colab": {
          "base_uri": "https://localhost:8080/",
          "height": 34
        },
        "outputId": "6a60e3d3-a2d1-47f2-91d5-0e9af24b56ad"
      },
      "source": [
        "p.shape"
      ],
      "execution_count": null,
      "outputs": [
        {
          "output_type": "execute_result",
          "data": {
            "text/plain": [
              "(6041, 10)"
            ]
          },
          "metadata": {
            "tags": []
          },
          "execution_count": 30
        }
      ]
    },
    {
      "cell_type": "markdown",
      "metadata": {
        "id": "UjcNJKpypiP0"
      },
      "source": [
        "\n",
        "Формулы для обновления $q_i$ при фиксированной матрице $P$ выглядят аналогично, реализация будет выглядеть следующим образом:\n"
      ]
    },
    {
      "cell_type": "code",
      "metadata": {
        "id": "cerCwd7Qkfa6"
      },
      "source": [
        "def compute_q(p, q, train_by_item):\n",
        "    for i, rated in train_by_item.items():\n",
        "        rated_users = [j for j, _ in rated]\n",
        "        rated_scores = np.array([s for _, s in rated])\n",
        "        P = p[rated_users, :]\n",
        "        A = (P.T).dot(P)\n",
        "        d = (P.T).dot(rated_scores)\n",
        "        q[i, :] = np.linalg.solve(lambda_q * len(rated_users) * np.eye(LATENT_SIZE) + A, d)\n",
        "    return q\n",
        "\n",
        "q = compute_q(p, q, train_by_item)"
      ],
      "execution_count": null,
      "outputs": []
    },
    {
      "cell_type": "code",
      "metadata": {
        "id": "goCvziL7FWE1",
        "colab": {
          "base_uri": "https://localhost:8080/",
          "height": 34
        },
        "outputId": "4fbd0d19-1401-4370-9eb1-526b0473e383"
      },
      "source": [
        "q.shape"
      ],
      "execution_count": null,
      "outputs": [
        {
          "output_type": "execute_result",
          "data": {
            "text/plain": [
              "(3953, 10)"
            ]
          },
          "metadata": {
            "tags": []
          },
          "execution_count": 32
        }
      ]
    },
    {
      "cell_type": "markdown",
      "metadata": {
        "id": "Vi7bqYQvreKv"
      },
      "source": [
        "Теперь мы можем сделать предсказание всей матрицы оценок"
      ]
    },
    {
      "cell_type": "code",
      "metadata": {
        "id": "-O_pNNCyr7sH"
      },
      "source": [
        "predictions = p.dot(q.T)"
      ],
      "execution_count": null,
      "outputs": []
    },
    {
      "cell_type": "markdown",
      "metadata": {
        "id": "h0ie6BIer_24"
      },
      "source": [
        "Качество работы модели будем определять по среднеквадратичной ошибке между рейтингом и предсказанием"
      ]
    },
    {
      "cell_type": "code",
      "metadata": {
        "id": "-ubv98fksJZF"
      },
      "source": [
        "def train_error(predictions):\n",
        "    return np.mean([(predictions[u, i] - r) ** 2 for u, i, r in train])\n",
        "\n",
        "def test_error(predictions):\n",
        "    return np.mean([(predictions[u, i] - r) ** 2 for u, i, r in test])"
      ],
      "execution_count": null,
      "outputs": []
    },
    {
      "cell_type": "markdown",
      "metadata": {
        "id": "AvhpwcJSspbP"
      },
      "source": [
        "Теперь полностью реализуем метод: в ALS проводятся $N$ итераций, в рамках каждой сначала оптимизируется $p$ при фиксированном $q$, затем $q$ при фиксированном $p$."
      ]
    },
    {
      "cell_type": "code",
      "metadata": {
        "id": "uUOWdv1nraZ0",
        "colab": {
          "base_uri": "https://localhost:8080/",
          "height": 391
        },
        "outputId": "d2bb874e-f919-4aa2-f18c-b6ecfaa69228"
      },
      "source": [
        "%%time\n",
        "N_ITER = 20\n",
        "for iter in range(N_ITER):\n",
        "    p = compute_p(p, q, train_by_user)\n",
        "    q = compute_q(p, q, train_by_item)\n",
        "\n",
        "    predictions = p.dot(q.T)\n",
        "    \n",
        "    print(iter, train_error(predictions), test_error(predictions))"
      ],
      "execution_count": null,
      "outputs": [
        {
          "output_type": "stream",
          "text": [
            "0 0.03066430994776746 0.14848666531492907\n",
            "1 0.027029643468250878 0.14074191138275235\n",
            "2 0.025794728422240832 0.1339690162458141\n",
            "3 0.025298580265259298 0.1278527884340578\n",
            "4 0.02506238514034076 0.1223956056524342\n",
            "5 0.02492678880598967 0.11752415102621717\n",
            "6 0.024839114664988483 0.1131554138158145\n",
            "7 0.02477830320063082 0.10922270488662998\n",
            "8 0.024734253691901246 0.10567243208608301\n",
            "9 0.02470142627897532 0.10246051641096007\n",
            "10 0.02467650673841401 0.09954996820782655\n",
            "11 0.024657359817865286 0.09690909301062624\n",
            "12 0.024642533578697334 0.09451025370889021\n",
            "13 0.024631017307410807 0.09232905873704036\n",
            "14 0.0246221022146939 0.09034386681955267\n",
            "15 0.024615274025963453 0.08853545832857632\n",
            "16 0.02461011695772306 0.08688675324959096\n",
            "17 0.024606257068772123 0.08538255403089305\n",
            "18 0.02460335391426012 0.08400930982939459\n",
            "19 0.024601109696852287 0.08275490265854599\n",
            "CPU times: user 1min 5s, sys: 1min 17s, total: 2min 22s\n",
            "Wall time: 49.6 s\n"
          ],
          "name": "stdout"
        }
      ]
    },
    {
      "cell_type": "code",
      "metadata": {
        "id": "z0geqMtbEddz"
      },
      "source": [
        ""
      ],
      "execution_count": null,
      "outputs": []
    }
  ]
}