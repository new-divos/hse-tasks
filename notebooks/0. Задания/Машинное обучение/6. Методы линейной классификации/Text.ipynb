{
  "nbformat": 4,
  "nbformat_minor": 0,
  "metadata": {
    "colab": {
      "name": "Text.ipynb",
      "provenance": [],
      "collapsed_sections": []
    },
    "kernelspec": {
      "name": "python3",
      "display_name": "Python 3"
    }
  },
  "cells": [
    {
      "cell_type": "code",
      "metadata": {
        "id": "8jSVwwV0ZSib"
      },
      "source": [
        "import warnings\n",
        "warnings.filterwarnings(\"ignore\", category=FutureWarning)\n",
        "warnings.filterwarnings(\"ignore\")"
      ],
      "execution_count": null,
      "outputs": []
    },
    {
      "cell_type": "markdown",
      "metadata": {
        "id": "EyOBT_yuOPbt"
      },
      "source": [
        "## 20Newsgroups"
      ]
    },
    {
      "cell_type": "code",
      "metadata": {
        "id": "0pXEYBa1irKy"
      },
      "source": [
        "from sklearn.datasets import fetch_20newsgroups"
      ],
      "execution_count": null,
      "outputs": []
    },
    {
      "cell_type": "code",
      "metadata": {
        "id": "6kPs28eIizK7"
      },
      "source": [
        "newsgroups_train = fetch_20newsgroups(subset='train')\n",
        "newsgroups_test = fetch_20newsgroups(subset='test')"
      ],
      "execution_count": null,
      "outputs": []
    },
    {
      "cell_type": "code",
      "metadata": {
        "id": "-TJi0Cpvi0GB",
        "colab": {
          "base_uri": "https://localhost:8080/",
          "height": 35
        },
        "outputId": "a7f4a420-5f9b-4196-b161-c4584a5cb66d"
      },
      "source": [
        "newsgroups_train.keys()"
      ],
      "execution_count": null,
      "outputs": [
        {
          "output_type": "execute_result",
          "data": {
            "text/plain": [
              "dict_keys(['data', 'filenames', 'target_names', 'target', 'DESCR'])"
            ]
          },
          "metadata": {
            "tags": []
          },
          "execution_count": 23
        }
      ]
    },
    {
      "cell_type": "code",
      "metadata": {
        "id": "3bS4nDRNi0Ju",
        "colab": {
          "base_uri": "https://localhost:8080/",
          "height": 397
        },
        "outputId": "dda50cf5-97ef-4fb7-d0a8-84091e1566e1"
      },
      "source": [
        "print (newsgroups_train.data[0])"
      ],
      "execution_count": null,
      "outputs": [
        {
          "output_type": "stream",
          "text": [
            "From: lerxst@wam.umd.edu (where's my thing)\n",
            "Subject: WHAT car is this!?\n",
            "Nntp-Posting-Host: rac3.wam.umd.edu\n",
            "Organization: University of Maryland, College Park\n",
            "Lines: 15\n",
            "\n",
            " I was wondering if anyone out there could enlighten me on this car I saw\n",
            "the other day. It was a 2-door sports car, looked to be from the late 60s/\n",
            "early 70s. It was called a Bricklin. The doors were really small. In addition,\n",
            "the front bumper was separate from the rest of the body. This is \n",
            "all I know. If anyone can tellme a model name, engine specs, years\n",
            "of production, where this car is made, history, or whatever info you\n",
            "have on this funky looking car, please e-mail.\n",
            "\n",
            "Thanks,\n",
            "- IL\n",
            "   ---- brought to you by your neighborhood Lerxst ----\n",
            "\n",
            "\n",
            "\n",
            "\n",
            "\n"
          ],
          "name": "stdout"
        }
      ]
    },
    {
      "cell_type": "markdown",
      "metadata": {
        "id": "4gyFClg2Oi3q"
      },
      "source": [
        "### 1. Предварительная обработка текста"
      ]
    },
    {
      "cell_type": "code",
      "metadata": {
        "id": "NLzaHw-_i0su",
        "colab": {
          "base_uri": "https://localhost:8080/",
          "height": 86
        },
        "outputId": "3a95ead1-aa15-4220-b569-dfa17876d42c"
      },
      "source": [
        "import nltk\n",
        "nltk.download('stopwords')\n",
        "nltk.download('punkt')\n",
        "from nltk.corpus import stopwords\n",
        "from nltk.tokenize import word_tokenize\n",
        "import re\n",
        "import tqdm\n",
        "\n",
        "\n",
        "def preprocess_text(texts):\n",
        "    stop_words = set(stopwords.words('english'))\n",
        "    regex = re.compile('[^a-z A-Z]')\n",
        "    preprocess_texts = []\n",
        "    for i in  tqdm.tqdm(range(len(texts))):\n",
        "        text = texts[i].lower()\n",
        "        text = regex.sub(' ', text)\n",
        "        word_tokens = word_tokenize(text) \n",
        "        filtered_sentence = [w for w in word_tokens if not w in stop_words] \n",
        "        preprocess_texts.append( ' '.join(filtered_sentence))\n",
        "    \n",
        "    return preprocess_texts"
      ],
      "execution_count": null,
      "outputs": [
        {
          "output_type": "stream",
          "text": [
            "[nltk_data] Downloading package stopwords to /root/nltk_data...\n",
            "[nltk_data]   Unzipping corpora/stopwords.zip.\n",
            "[nltk_data] Downloading package punkt to /root/nltk_data...\n",
            "[nltk_data]   Unzipping tokenizers/punkt.zip.\n"
          ],
          "name": "stdout"
        }
      ]
    },
    {
      "cell_type": "code",
      "metadata": {
        "id": "S-7Y15RKi0vg",
        "colab": {
          "base_uri": "https://localhost:8080/",
          "height": 35
        },
        "outputId": "50517bb0-7e1e-4693-830f-5f3da0da3301"
      },
      "source": [
        "newsgroups_train['preprocess_data'] = preprocess_text(newsgroups_train.data)"
      ],
      "execution_count": null,
      "outputs": [
        {
          "output_type": "stream",
          "text": [
            "100%|██████████| 11314/11314 [00:17<00:00, 653.60it/s]\n"
          ],
          "name": "stderr"
        }
      ]
    },
    {
      "cell_type": "code",
      "metadata": {
        "id": "okehw7-zjIqK",
        "colab": {
          "base_uri": "https://localhost:8080/",
          "height": 35
        },
        "outputId": "3b8032bd-5025-4bfe-cb0a-e03f0fb5a8b5"
      },
      "source": [
        "newsgroups_test['preprocess_data'] = preprocess_text(newsgroups_test.data)"
      ],
      "execution_count": null,
      "outputs": [
        {
          "output_type": "stream",
          "text": [
            "100%|██████████| 7532/7532 [00:10<00:00, 693.23it/s]\n"
          ],
          "name": "stderr"
        }
      ]
    },
    {
      "cell_type": "code",
      "metadata": {
        "id": "zTWtrSHAjItA",
        "colab": {
          "base_uri": "https://localhost:8080/",
          "height": 55
        },
        "outputId": "f9afc854-bdfd-4d4c-8467-bf1591be93a6"
      },
      "source": [
        "print(newsgroups_train['preprocess_data'][0])"
      ],
      "execution_count": null,
      "outputs": [
        {
          "output_type": "stream",
          "text": [
            "lerxst wam umd edu thing subject car nntp posting host rac wam umd edu organization university maryland college park lines wondering anyone could enlighten car saw day door sports car looked late early called bricklin doors really small addition front bumper separate rest body know anyone tellme model name engine specs years production car made history whatever info funky looking car please e mail thanks il brought neighborhood lerxst\n"
          ],
          "name": "stdout"
        }
      ]
    },
    {
      "cell_type": "code",
      "metadata": {
        "id": "tZYKnEeYjIv1"
      },
      "source": [
        "from nltk.stem.lancaster import LancasterStemmer"
      ],
      "execution_count": null,
      "outputs": []
    },
    {
      "cell_type": "code",
      "metadata": {
        "id": "LZCOP9HFjIyR"
      },
      "source": [
        "def stemming_texts(texts):\n",
        "  st = LancasterStemmer()\n",
        "  stem_text = []\n",
        "  for text in tqdm.tqdm(texts):\n",
        "    word_tokens = word_tokenize(text)\n",
        "    stem_text.append(' '.join([st.stem(word) for word in word_tokens]))\n",
        "  return stem_text"
      ],
      "execution_count": null,
      "outputs": []
    },
    {
      "cell_type": "code",
      "metadata": {
        "id": "D0h_D9xujI1E",
        "colab": {
          "base_uri": "https://localhost:8080/",
          "height": 35
        },
        "outputId": "143559f8-6c9c-4897-ff5f-515b46173a0b"
      },
      "source": [
        "newsgroups_train['data_stemming'] = \\\n",
        "                           stemming_texts(newsgroups_train.preprocess_data)"
      ],
      "execution_count": null,
      "outputs": [
        {
          "output_type": "stream",
          "text": [
            "100%|██████████| 11314/11314 [00:36<00:00, 307.52it/s]\n"
          ],
          "name": "stderr"
        }
      ]
    },
    {
      "cell_type": "code",
      "metadata": {
        "id": "0IgwyKC0jI3g",
        "colab": {
          "base_uri": "https://localhost:8080/",
          "height": 35
        },
        "outputId": "4fd8cd4c-2002-463f-fd37-c5a01fe86306"
      },
      "source": [
        "newsgroups_test['data_stemming'] = \\\n",
        "                            stemming_texts(newsgroups_test.preprocess_data)"
      ],
      "execution_count": null,
      "outputs": [
        {
          "output_type": "stream",
          "text": [
            "100%|██████████| 7532/7532 [00:23<00:00, 322.17it/s]\n"
          ],
          "name": "stderr"
        }
      ]
    },
    {
      "cell_type": "code",
      "metadata": {
        "id": "N0GU53hfjI6C",
        "colab": {
          "base_uri": "https://localhost:8080/",
          "height": 55
        },
        "outputId": "0ccd8ccc-06ec-43e5-aa82-093f98c7dacd"
      },
      "source": [
        "print(newsgroups_train.data_stemming[0])"
      ],
      "execution_count": null,
      "outputs": [
        {
          "output_type": "stream",
          "text": [
            "lerxst wam umd edu thing subject car nntp post host rac wam umd edu org univers maryland colleg park lin wond anyon could enlight car saw day door sport car look lat ear cal bricklin door real smal addit front bump sep rest body know anyon tellm model nam engin spec year produc car mad hist whatev info funky look car pleas e mail thank il brought neighb lerxst\n"
          ],
          "name": "stdout"
        }
      ]
    },
    {
      "cell_type": "code",
      "metadata": {
        "id": "lPpe-b5zvmUW",
        "colab": {
          "base_uri": "https://localhost:8080/",
          "height": 55
        },
        "outputId": "d04ba9e2-9ee5-41c6-fa45-2ecfa5884df3"
      },
      "source": [
        "print(newsgroups_train.preprocess_data[0])"
      ],
      "execution_count": null,
      "outputs": [
        {
          "output_type": "stream",
          "text": [
            "lerxst wam umd edu thing subject car nntp posting host rac wam umd edu organization university maryland college park lines wondering anyone could enlighten car saw day door sports car looked late early called bricklin doors really small addition front bumper separate rest body know anyone tellme model name engine specs years production car made history whatever info funky looking car please e mail thanks il brought neighborhood lerxst\n"
          ],
          "name": "stdout"
        }
      ]
    },
    {
      "cell_type": "markdown",
      "metadata": {
        "id": "etnaHjcgOzu6"
      },
      "source": [
        "### 2. Перевод текста в вещественное пространство признаков"
      ]
    },
    {
      "cell_type": "markdown",
      "metadata": {
        "id": "Wk1VkR5IO7oO"
      },
      "source": [
        "#### 2.1 Bag of Words (мешок слов)"
      ]
    },
    {
      "cell_type": "markdown",
      "metadata": {
        "id": "hI8oo_G1PClx"
      },
      "source": [
        "Основное предположение данного метода — порядок слов в документе не важен, \n",
        "\n",
        "а все документы представляются в виде матрицы $ T = (t)_{d,w}$,\n",
        "\n",
        "каждая строка в которой соответствует отдельному документу или тексту, \n",
        "\n",
        "а каждый столбец — определенному слову. \n",
        "\n",
        "Элемент $t_{d,w}$ соответствует количеству вхождений слова $w$ в документ $d$.\n",
        "\n",
        "\n",
        "\n",
        "\n",
        "\n"
      ]
    },
    {
      "cell_type": "code",
      "metadata": {
        "id": "WocMYLbTv9vC"
      },
      "source": [
        "from sklearn.feature_extraction.text import CountVectorizer"
      ],
      "execution_count": null,
      "outputs": []
    },
    {
      "cell_type": "code",
      "metadata": {
        "id": "VC_57sTEQBMa"
      },
      "source": [
        "vectorizer = CountVectorizer()"
      ],
      "execution_count": null,
      "outputs": []
    },
    {
      "cell_type": "code",
      "metadata": {
        "id": "Aybc8qotQHh8",
        "colab": {
          "base_uri": "https://localhost:8080/",
          "height": 121
        },
        "outputId": "bb0be84e-fac9-4b1d-fc9c-29ccc6235ad5"
      },
      "source": [
        "vectorizer.fit(['порядок слов в документе не важен', 'мешок слов'])"
      ],
      "execution_count": null,
      "outputs": [
        {
          "output_type": "execute_result",
          "data": {
            "text/plain": [
              "CountVectorizer(analyzer='word', binary=False, decode_error='strict',\n",
              "                dtype=<class 'numpy.int64'>, encoding='utf-8', input='content',\n",
              "                lowercase=True, max_df=1.0, max_features=None, min_df=1,\n",
              "                ngram_range=(1, 1), preprocessor=None, stop_words=None,\n",
              "                strip_accents=None, token_pattern='(?u)\\\\b\\\\w\\\\w+\\\\b',\n",
              "                tokenizer=None, vocabulary=None)"
            ]
          },
          "metadata": {
            "tags": []
          },
          "execution_count": 76
        }
      ]
    },
    {
      "cell_type": "code",
      "metadata": {
        "id": "LM1spxAeQe3q",
        "colab": {
          "base_uri": "https://localhost:8080/",
          "height": 35
        },
        "outputId": "4558eac4-6bfe-4f63-b00d-2f8d38955a25"
      },
      "source": [
        "vectorizer.get_feature_names()"
      ],
      "execution_count": null,
      "outputs": [
        {
          "output_type": "execute_result",
          "data": {
            "text/plain": [
              "['важен', 'документе', 'мешок', 'не', 'порядок', 'слов']"
            ]
          },
          "metadata": {
            "tags": []
          },
          "execution_count": 77
        }
      ]
    },
    {
      "cell_type": "code",
      "metadata": {
        "id": "dvG4o-1kQn3z",
        "colab": {
          "base_uri": "https://localhost:8080/",
          "height": 52
        },
        "outputId": "77607385-eb9b-4930-f737-25a7736301b3"
      },
      "source": [
        "vectorizer.transform(['важен порядок', 'не мешок не порядок']).toarray()"
      ],
      "execution_count": null,
      "outputs": [
        {
          "output_type": "execute_result",
          "data": {
            "text/plain": [
              "array([[1, 0, 0, 0, 1, 0],\n",
              "       [0, 0, 1, 2, 1, 0]])"
            ]
          },
          "metadata": {
            "tags": []
          },
          "execution_count": 78
        }
      ]
    },
    {
      "cell_type": "code",
      "metadata": {
        "id": "4fednKkjeE-_"
      },
      "source": [
        "def bow(vectorizer, train, test):\n",
        "  train_bow = vectorizer.fit_transform(train)\n",
        "  test_bow = vectorizer.transform(test)\n",
        "  return train_bow, test_bow"
      ],
      "execution_count": null,
      "outputs": []
    },
    {
      "cell_type": "code",
      "metadata": {
        "id": "LEPL9R0jfUc-"
      },
      "source": [
        "X_train_bow, X_test_bow = bow(vectorizer, \n",
        "                              newsgroups_train.data, \n",
        "                              newsgroups_test.data)"
      ],
      "execution_count": null,
      "outputs": []
    },
    {
      "cell_type": "code",
      "metadata": {
        "id": "xaETMkjcfuTv",
        "colab": {
          "base_uri": "https://localhost:8080/",
          "height": 35
        },
        "outputId": "30b796a8-e1d3-47d5-ac21-14fde414f992"
      },
      "source": [
        "X_train_bow.shape"
      ],
      "execution_count": null,
      "outputs": [
        {
          "output_type": "execute_result",
          "data": {
            "text/plain": [
              "(11314, 130107)"
            ]
          },
          "metadata": {
            "tags": []
          },
          "execution_count": 42
        }
      ]
    },
    {
      "cell_type": "code",
      "metadata": {
        "id": "VXwbJ1OBf1SV",
        "colab": {
          "base_uri": "https://localhost:8080/",
          "height": 35
        },
        "outputId": "3eec8e8f-45a5-4bd4-8d15-36cc74bbb67a"
      },
      "source": [
        "X_test_bow.shape"
      ],
      "execution_count": null,
      "outputs": [
        {
          "output_type": "execute_result",
          "data": {
            "text/plain": [
              "(7532, 130107)"
            ]
          },
          "metadata": {
            "tags": []
          },
          "execution_count": 43
        }
      ]
    },
    {
      "cell_type": "code",
      "metadata": {
        "id": "IEfDbzuRgDSY"
      },
      "source": [
        "X_train_bow_preprocess, X_test_bow_preprocess = bow(vectorizer, \n",
        "                                                    newsgroups_train.preprocess_data,\n",
        "                                                    newsgroups_test.preprocess_data)"
      ],
      "execution_count": null,
      "outputs": []
    },
    {
      "cell_type": "code",
      "metadata": {
        "id": "D2BHnhodjIIs",
        "colab": {
          "base_uri": "https://localhost:8080/",
          "height": 35
        },
        "outputId": "3b336a68-9087-4a38-e8ee-a0090bf05469"
      },
      "source": [
        "X_train_bow_preprocess.shape"
      ],
      "execution_count": null,
      "outputs": [
        {
          "output_type": "execute_result",
          "data": {
            "text/plain": [
              "(11314, 88863)"
            ]
          },
          "metadata": {
            "tags": []
          },
          "execution_count": 45
        }
      ]
    },
    {
      "cell_type": "code",
      "metadata": {
        "id": "-vxGrCfejLVX",
        "colab": {
          "base_uri": "https://localhost:8080/",
          "height": 35
        },
        "outputId": "186a8c1b-8a1b-4f37-acee-e6531c8af76f"
      },
      "source": [
        "X_test_bow_preprocess.shape"
      ],
      "execution_count": null,
      "outputs": [
        {
          "output_type": "execute_result",
          "data": {
            "text/plain": [
              "(7532, 88863)"
            ]
          },
          "metadata": {
            "tags": []
          },
          "execution_count": 46
        }
      ]
    },
    {
      "cell_type": "code",
      "metadata": {
        "id": "ftID74NijN7q"
      },
      "source": [
        "X_train_bow_stem, X_test_bow_stem = bow(vectorizer, \n",
        "                                        newsgroups_train.data_stemming,\n",
        "                                        newsgroups_test.data_stemming)"
      ],
      "execution_count": null,
      "outputs": []
    },
    {
      "cell_type": "code",
      "metadata": {
        "id": "BDErCxTPjgr1",
        "colab": {
          "base_uri": "https://localhost:8080/",
          "height": 35
        },
        "outputId": "b245b699-212b-4cf2-e357-4f1f12b86fc8"
      },
      "source": [
        "X_train_bow_stem.shape"
      ],
      "execution_count": null,
      "outputs": [
        {
          "output_type": "execute_result",
          "data": {
            "text/plain": [
              "(11314, 61221)"
            ]
          },
          "metadata": {
            "tags": []
          },
          "execution_count": 48
        }
      ]
    },
    {
      "cell_type": "code",
      "metadata": {
        "id": "xoTAihrHjlnk",
        "colab": {
          "base_uri": "https://localhost:8080/",
          "height": 35
        },
        "outputId": "85065200-c0ff-4e10-ec79-beb7205b1240"
      },
      "source": [
        "X_test_bow_stem.shape"
      ],
      "execution_count": null,
      "outputs": [
        {
          "output_type": "execute_result",
          "data": {
            "text/plain": [
              "(7532, 61221)"
            ]
          },
          "metadata": {
            "tags": []
          },
          "execution_count": 49
        }
      ]
    },
    {
      "cell_type": "markdown",
      "metadata": {
        "id": "8JvGQleCSvHS"
      },
      "source": [
        "#### 2.2 Bag of Words & TF IDF"
      ]
    },
    {
      "cell_type": "markdown",
      "metadata": {
        "id": "8YSNwHr2SRMh"
      },
      "source": [
        "$TF-IDF$ — это статистическая мера, используемая для оценки\n",
        "\n",
        "важности слова в контексте документа. Вычисляется по формуле:\n",
        "\n",
        "$$TF-IDF(w, d, D) = TF(w, d) × IDF(w, D)$$\n",
        "\n",
        "$TF$ — частота слова, оценивает важность слова $w_i$ в пределах отдельного документа.\n",
        "\n",
        "$$TF(w, d) = \\frac{n_i}{\\sum_k n_k}$$\n",
        "\n",
        "$n_i$ — число вхождений слова $i$ в документ.\n",
        "\n",
        "$\\sum_k n_k$ — общее число слов в данном документе.\n",
        "\n",
        "$IDF$ — обратная частота документа. \n",
        "\n",
        "Учёт $IDF$ уменьшает вес широко употребляемых слов.\n",
        "$$IDF(w, D) = \\log \\frac{|D|}{|w_i \\subset d_i|}, \\text{где}$$\n",
        "\n",
        "$|D|$ — количество документов в корпусе.\n",
        "\n",
        "$|w_i \\subset d_i|$ — количество документов,\n",
        "\n",
        "в которых встречается слово $w_i$."
      ]
    },
    {
      "cell_type": "code",
      "metadata": {
        "id": "rteG9u1zjovT"
      },
      "source": [
        "from sklearn.feature_extraction.text import TfidfVectorizer"
      ],
      "execution_count": null,
      "outputs": []
    },
    {
      "cell_type": "code",
      "metadata": {
        "id": "FKZDpujwkIdK"
      },
      "source": [
        "vectorizer_tf_idf = TfidfVectorizer()"
      ],
      "execution_count": null,
      "outputs": []
    },
    {
      "cell_type": "code",
      "metadata": {
        "id": "KlDqTbIFkSq2"
      },
      "source": [
        "X_train_tfidf, X_test_tfidf = bow(vectorizer_tf_idf, \n",
        "                                  newsgroups_train.data, \n",
        "                                  newsgroups_test.data)"
      ],
      "execution_count": null,
      "outputs": []
    },
    {
      "cell_type": "code",
      "metadata": {
        "id": "1JTYu0JEkqVi"
      },
      "source": [
        "X_train_tfidf_preprocess, X_test_tfidf_preprocess = bow(vectorizer_tf_idf,\n",
        "                                                        newsgroups_train.preprocess_data,\n",
        "                                                        newsgroups_test.preprocess_data)"
      ],
      "execution_count": null,
      "outputs": []
    },
    {
      "cell_type": "code",
      "metadata": {
        "id": "0zmpdGT1lIWL"
      },
      "source": [
        "X_train_tfidf_stem, X_test_tfidf_stem = bow(vectorizer_tf_idf,\n",
        "                                            newsgroups_train.data_stemming,\n",
        "                                            newsgroups_test.data_stemming)"
      ],
      "execution_count": null,
      "outputs": []
    },
    {
      "cell_type": "code",
      "metadata": {
        "id": "3u-SKgBXlbRq"
      },
      "source": [
        "vectorizer_ngram = TfidfVectorizer(ngram_range=(1,2))"
      ],
      "execution_count": null,
      "outputs": []
    },
    {
      "cell_type": "code",
      "metadata": {
        "id": "eFKYG1uRmZgV"
      },
      "source": [
        "X_train_ngram_stem, X_test_ngram_stem = bow(vectorizer_ngram, \n",
        "                                            newsgroups_train.data_stemming,\n",
        "                                            newsgroups_test.data_stemming)"
      ],
      "execution_count": null,
      "outputs": []
    },
    {
      "cell_type": "code",
      "metadata": {
        "id": "D4xEOvcanTgN",
        "colab": {
          "base_uri": "https://localhost:8080/",
          "height": 35
        },
        "outputId": "1dab3d27-770d-4f84-9c42-c2fef0bf7906"
      },
      "source": [
        "X_train_ngram_stem.shape"
      ],
      "execution_count": null,
      "outputs": [
        {
          "output_type": "execute_result",
          "data": {
            "text/plain": [
              "(11314, 934463)"
            ]
          },
          "metadata": {
            "tags": []
          },
          "execution_count": 58
        }
      ]
    },
    {
      "cell_type": "code",
      "metadata": {
        "id": "Vq4oBoQwnaU-",
        "colab": {
          "base_uri": "https://localhost:8080/",
          "height": 35
        },
        "outputId": "2133a654-d4fe-43a5-a5f9-ff106b4ca2e7"
      },
      "source": [
        "X_test_ngram_stem.shape"
      ],
      "execution_count": null,
      "outputs": [
        {
          "output_type": "execute_result",
          "data": {
            "text/plain": [
              "(7532, 934463)"
            ]
          },
          "metadata": {
            "tags": []
          },
          "execution_count": 59
        }
      ]
    },
    {
      "cell_type": "markdown",
      "metadata": {
        "id": "DdeFw_f58fw4"
      },
      "source": [
        "### 3. Выбор алгоритма машинного обучения для классификации."
      ]
    },
    {
      "cell_type": "code",
      "metadata": {
        "id": "GhRQvNYLndMl"
      },
      "source": [
        "from sklearn.metrics import accuracy_score\n",
        "import numpy as np"
      ],
      "execution_count": null,
      "outputs": []
    },
    {
      "cell_type": "code",
      "metadata": {
        "id": "47mZPCNrZzMk"
      },
      "source": [
        "from sklearn.linear_model import LogisticRegression\n",
        "clf = LogisticRegression()"
      ],
      "execution_count": null,
      "outputs": []
    },
    {
      "cell_type": "code",
      "metadata": {
        "id": "doizgpm8TJGl"
      },
      "source": [
        "from sklearn.svm import LinearSVC\n",
        "clf_svc = LinearSVC()"
      ],
      "execution_count": null,
      "outputs": []
    },
    {
      "cell_type": "code",
      "metadata": {
        "id": "BxB4gQxUZzG4",
        "colab": {
          "base_uri": "https://localhost:8080/",
          "height": 52
        },
        "outputId": "f9fd7d81-0c0d-4d34-a0ab-628947edd5d8"
      },
      "source": [
        "clf.fit(X_train_bow, newsgroups_train.target)\n",
        "print ('LogisticRegression: ',\n",
        "       accuracy_score(clf.predict(X_test_bow), newsgroups_test.target))\n",
        "\n",
        "clf_svc.fit(X_train_bow, newsgroups_train.target)\n",
        "print ('LinearSVC: ',\n",
        "       accuracy_score(clf_svc.predict(X_test_bow), newsgroups_test.target))"
      ],
      "execution_count": null,
      "outputs": [
        {
          "output_type": "stream",
          "text": [
            "LogisticRegression:  0.8069569835369091\n",
            "LinearSVC:  0.7858470525756771\n"
          ],
          "name": "stdout"
        }
      ]
    },
    {
      "cell_type": "code",
      "metadata": {
        "id": "9e9N2wHqZzAo",
        "colab": {
          "base_uri": "https://localhost:8080/",
          "height": 52
        },
        "outputId": "d9d4ea7f-b18a-44ae-a71e-c10c304c2275"
      },
      "source": [
        "clf.fit(X_train_bow_preprocess, newsgroups_train.target)\n",
        "print ('LogisticRegression: ',\n",
        "       accuracy_score(clf.predict(X_test_bow_preprocess),\n",
        "                      newsgroups_test.target))\n",
        "\n",
        "clf_svc.fit(X_train_bow_preprocess, newsgroups_train.target)\n",
        "print ('LinearSVC: ',\n",
        "       accuracy_score(clf_svc.predict(X_test_bow_preprocess),\n",
        "                      newsgroups_test.target))\n",
        "\n"
      ],
      "execution_count": null,
      "outputs": [
        {
          "output_type": "stream",
          "text": [
            "LogisticRegression:  0.811603823685608\n",
            "LinearSVC:  0.7928836962294211\n"
          ],
          "name": "stdout"
        }
      ]
    },
    {
      "cell_type": "code",
      "metadata": {
        "id": "gjNzmA3eZy7O",
        "colab": {
          "base_uri": "https://localhost:8080/",
          "height": 52
        },
        "outputId": "c23db17e-7500-4b57-dc57-c891c4edee69"
      },
      "source": [
        "clf.fit(X_train_bow_stem, newsgroups_train.target)\n",
        "print ('LogisticRegression: ',\n",
        "       accuracy_score(clf.predict(X_test_bow_stem),\n",
        "                      newsgroups_test.target))\n",
        "\n",
        "clf_svc.fit(X_train_bow_stem, newsgroups_train.target)\n",
        "print ('LinearSVC: ',\n",
        "       accuracy_score(clf_svc.predict(X_test_bow_stem),\n",
        "                      newsgroups_test.target))"
      ],
      "execution_count": null,
      "outputs": [
        {
          "output_type": "stream",
          "text": [
            "LogisticRegression:  0.8050982474774296\n",
            "LinearSVC:  0.7812002124269782\n"
          ],
          "name": "stdout"
        }
      ]
    },
    {
      "cell_type": "code",
      "metadata": {
        "id": "dz9GwO-NZyyg",
        "colab": {
          "base_uri": "https://localhost:8080/",
          "height": 52
        },
        "outputId": "e2aea1a5-a8ef-4fcf-9079-7571c8e8293e"
      },
      "source": [
        "clf.fit(X_train_tfidf, newsgroups_train.target)\n",
        "print ('LogisticRegression: ',\n",
        "       accuracy_score(clf.predict(X_test_tfidf), newsgroups_test.target))\n",
        "\n",
        "clf_svc.fit(X_train_tfidf, newsgroups_train.target)\n",
        "print ('LinearSVC: ',\n",
        "       accuracy_score(clf_svc.predict(X_test_tfidf), newsgroups_test.target))"
      ],
      "execution_count": null,
      "outputs": [
        {
          "output_type": "stream",
          "text": [
            "LogisticRegression:  0.8279341476367499\n",
            "LinearSVC:  0.8531598513011153\n"
          ],
          "name": "stdout"
        }
      ]
    },
    {
      "cell_type": "code",
      "metadata": {
        "id": "OTVeqc4GZyei",
        "colab": {
          "base_uri": "https://localhost:8080/",
          "height": 52
        },
        "outputId": "2fee7c8a-e925-4726-b82c-3a54b1847091"
      },
      "source": [
        "clf.fit(X_train_tfidf_preprocess, newsgroups_train.target)\n",
        "print ('LogisticRegression: ',\n",
        "        accuracy_score(clf.predict(X_test_tfidf_preprocess), \n",
        "                       newsgroups_test.target))\n",
        "\n",
        "clf_svc.fit(X_train_tfidf_preprocess, newsgroups_train.target)\n",
        "print ('LinearSVC: ',\n",
        "        accuracy_score(clf_svc.predict(X_test_tfidf_preprocess), \n",
        "                       newsgroups_test.target))"
      ],
      "execution_count": null,
      "outputs": [
        {
          "output_type": "stream",
          "text": [
            "LogisticRegression:  0.831651619755709\n",
            "LinearSVC:  0.8509028146574615\n"
          ],
          "name": "stdout"
        }
      ]
    },
    {
      "cell_type": "code",
      "metadata": {
        "id": "AsWsVay6Zyax",
        "colab": {
          "base_uri": "https://localhost:8080/",
          "height": 52
        },
        "outputId": "412684a2-16c2-482d-8c2f-f3d4263b3aab"
      },
      "source": [
        "clf.fit(X_train_tfidf_stem, newsgroups_train.target)\n",
        "print ('LogisticRegression: ',\n",
        "       accuracy_score(clf.predict(X_test_tfidf_stem), \n",
        "                      newsgroups_test.target))\n",
        "\n",
        "clf_svc.fit(X_train_tfidf_stem, newsgroups_train.target)\n",
        "print ('LinearSVC: ',\n",
        "       accuracy_score(clf_svc.predict(X_test_tfidf_stem),\n",
        "                      newsgroups_test.target))"
      ],
      "execution_count": null,
      "outputs": [
        {
          "output_type": "stream",
          "text": [
            "LogisticRegression:  0.8244822092405736\n",
            "LinearSVC:  0.8437334041423261\n"
          ],
          "name": "stdout"
        }
      ]
    },
    {
      "cell_type": "code",
      "metadata": {
        "id": "EpIlTWoYZyYU",
        "colab": {
          "base_uri": "https://localhost:8080/",
          "height": 52
        },
        "outputId": "609e1aa2-5671-46de-dd2d-bb01a68b0192"
      },
      "source": [
        "clf.fit(X_train_ngram_stem, newsgroups_train.target)\n",
        "print ('LogisticRegression: ',\n",
        "       accuracy_score(clf.predict(X_test_ngram_stem), \n",
        "                      newsgroups_test.target))\n",
        "\n",
        "clf_svc.fit(X_train_ngram_stem, newsgroups_train.target)\n",
        "print ('LinearSVC: ',\n",
        "       accuracy_score(clf_svc.predict(X_test_ngram_stem),\n",
        "                      newsgroups_test.target))"
      ],
      "execution_count": null,
      "outputs": [
        {
          "output_type": "stream",
          "text": [
            "LogisticRegression:  0.8275358470525757\n",
            "LinearSVC:  0.8555496548061604\n"
          ],
          "name": "stdout"
        }
      ]
    },
    {
      "cell_type": "code",
      "metadata": {
        "id": "JJHWFcawjVKd"
      },
      "source": [
        "import seaborn\n",
        "from sklearn.metrics import confusion_matrix"
      ],
      "execution_count": null,
      "outputs": []
    },
    {
      "cell_type": "code",
      "metadata": {
        "id": "WcuEWD2IjVII"
      },
      "source": [
        "predict_targets = clf_svc.predict(X_test_ngram_stem)"
      ],
      "execution_count": null,
      "outputs": []
    },
    {
      "cell_type": "code",
      "metadata": {
        "id": "GuCopDNujVDM",
        "colab": {
          "base_uri": "https://localhost:8080/",
          "height": 286
        },
        "outputId": "8e464db8-69a0-402e-e843-79b0752a8940"
      },
      "source": [
        "seaborn.heatmap(confusion_matrix(newsgroups_test.target, predict_targets))"
      ],
      "execution_count": null,
      "outputs": [
        {
          "output_type": "execute_result",
          "data": {
            "text/plain": [
              "<matplotlib.axes._subplots.AxesSubplot at 0x7f6a18e75c88>"
            ]
          },
          "metadata": {
            "tags": []
          },
          "execution_count": 102
        },
        {
          "output_type": "display_data",
          "data": {
            "image/png": "[encoded data removed]",
            "text/plain": [
              "<Figure size 432x288 with 2 Axes>"
            ]
          },
          "metadata": {
            "tags": []
          }
        }
      ]
    },
    {
      "cell_type": "code",
      "metadata": {
        "id": "2sSdHDPjjVAv",
        "colab": {
          "base_uri": "https://localhost:8080/",
          "height": 35
        },
        "outputId": "e51fa209-efff-40e3-8d5f-559c4c38035f"
      },
      "source": [
        "newsgroups_test.target_names[18]"
      ],
      "execution_count": null,
      "outputs": [
        {
          "output_type": "execute_result",
          "data": {
            "text/plain": [
              "'talk.politics.misc'"
            ]
          },
          "metadata": {
            "tags": []
          },
          "execution_count": 103
        }
      ]
    },
    {
      "cell_type": "code",
      "metadata": {
        "id": "hrluANXdjU9Q",
        "colab": {
          "base_uri": "https://localhost:8080/",
          "height": 35
        },
        "outputId": "86101033-4044-48ba-cbf8-048169a110e6"
      },
      "source": [
        "newsgroups_test.target_names[16]"
      ],
      "execution_count": null,
      "outputs": [
        {
          "output_type": "execute_result",
          "data": {
            "text/plain": [
              "'talk.politics.guns'"
            ]
          },
          "metadata": {
            "tags": []
          },
          "execution_count": 104
        }
      ]
    },
    {
      "cell_type": "code",
      "metadata": {
        "id": "npSRo-HajUye",
        "colab": {
          "base_uri": "https://localhost:8080/",
          "height": 1000
        },
        "outputId": "ebe9f7fd-93a5-46a7-c075-e9a6c5b3f69b"
      },
      "source": [
        "ind = np.where(newsgroups_test.target != predict_targets)\n",
        "ind = ind[0]\n",
        "random_ind = np.random.randint(0,ind.shape[0],(2))\n",
        "for i in random_ind:\n",
        "    img=newsgroups_test.data[ind[i]]\n",
        "    print ('Правильный класс: ', \n",
        "           newsgroups_test.target_names[newsgroups_test.target[ind[i]]])\n",
        "    print ('Предсказанный класс: ', \n",
        "           newsgroups_test.target_names[predict_targets[ind[i]]])\n",
        "    print(img)\n"
      ],
      "execution_count": null,
      "outputs": [
        {
          "output_type": "stream",
          "text": [
            "Правильный класс:  comp.windows.x\n",
            "Предсказанный класс:  comp.sys.mac.hardware\n",
            "From: dean@gene.med.umn.edu (Dean Flanders (IHG))\n",
            "Subject: Planet X\n",
            "Nntp-Posting-Host: gene.med.umn.edu\n",
            "Organization: University of Minnesota\n",
            "X-Newsreader: TIN [version 1.1 PL9]\n",
            "Lines: 28\n",
            "\n",
            "Does any one out there have experience with Planet X, I am\n",
            "considering buying it to use on a SPARCstation IPC, in this\n",
            "way I can run Mac programs from the SPARC.\n",
            "\n",
            "Would you recommend buying this piece of Software and what is\n",
            "the emulation on the SPARC like?  Does it give a window of a\n",
            "Mac or does it give a window of just the individual programs?\n",
            "\n",
            "Any information would be greatly appreciated.\n",
            "\n",
            "Thanks,\n",
            "\n",
            "Dean\n",
            "\n",
            "=========================================================================\n",
            "Institute of Human Genetics           I\n",
            "University of Minnesota               I\n",
            "Box 206 UMHC                          I    \"If all you have is a hammer,\n",
            "Harvard Street at East River Road     I     you tend to look at every\n",
            "Minneapolis, MN  55455                I     problem as a nail.\"\n",
            "                                      I\n",
            "Voice (612) 625-5128                  I                      -Maslow\n",
            "Fax (612) 626-7031                    I\n",
            "Email dean@lenti.med.umn.edu          I\n",
            "==========================================================================\n",
            "\n",
            "\n",
            "\n",
            "\n",
            "Правильный класс:  talk.politics.misc\n",
            "Предсказанный класс:  talk.politics.guns\n",
            "From: lazlo@carina.unm.edu (Lazlo Nibble)\n",
            "Subject: Re: WACO burning\n",
            "Organization: Vroom Socko International Fear Club\n",
            "Lines: 11\n",
            "Distribution: world\n",
            "NNTP-Posting-Host: carina.unm.edu\n",
            "\n",
            "russotto@eng.umd.edu (Matthew T. Russotto) writes:\n",
            "\n",
            "> The idea that kerosene lamps would be all over the place (with\n",
            "> electricity cut off) makes sense.  The idea that ramming tanks into the\n",
            "> building would spill them and cause a fire makes sense.\n",
            "\n",
            "As does the idea that a CS gas canister can get hot enough to ignite dry\n",
            "baled hay.\n",
            "\n",
            "--\n",
            "Lazlo (lazlo@triton.unm.edu)\n",
            "\n"
          ],
          "name": "stdout"
        }
      ]
    },
    {
      "cell_type": "code",
      "metadata": {
        "id": "buFTE7SdjUs3"
      },
      "source": [
        ""
      ],
      "execution_count": null,
      "outputs": []
    },
    {
      "cell_type": "code",
      "metadata": {
        "id": "DQ_DUOFsZyUu"
      },
      "source": [
        ""
      ],
      "execution_count": null,
      "outputs": []
    }
  ]
}