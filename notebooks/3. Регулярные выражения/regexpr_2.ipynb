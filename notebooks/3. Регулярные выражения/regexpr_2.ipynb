{
 "cells": [
  {
   "cell_type": "markdown",
   "metadata": {},
   "source": [
    "#### Python для анализа данных (социальные науки)\n",
    "\n",
    "## Регулярные выражения\n",
    "\n",
    "Задачи\n",
    "\n",
    "*Авторы: Ян Пиле, Татьяна Рогович*"
   ]
  },
  {
   "cell_type": "markdown",
   "metadata": {},
   "source": [
    "### 1. Задачка про аббревиатуры\n",
    "Владимир устроился на работу в одно очень важное место. И в первом же документе он ничего не понял, \n",
    "там были сплошные ФГУП НИЦ ГИДГЕО, ФГОУ ЧШУ АПК и т.п. Тогда он решил собрать все аббревиатуры, чтобы потом найти их расшифровки на http://sokr.ru/. Помогите ему.\n",
    "Будем считать аббревиатурой слова только лишь из заглавных букв (как минимум из двух). Если несколько таких слов разделены пробелами, то они \n",
    "считаются одной аббревиатурой."
   ]
  },
  {
   "cell_type": "markdown",
   "metadata": {},
   "source": [
    "**Ввод**: Это курс информатики соответствует ФГОС и ПООП, это подтверждено ФГУ ФНЦ НИИСИ РАН   \n",
    "**Вывод**: ФГОС, ПООП, ФГУ, ФНЦ, НИИСИ, РАН"
   ]
  },
  {
   "cell_type": "code",
   "execution_count": 1,
   "metadata": {},
   "outputs": [
    {
     "output_type": "stream",
     "name": "stdout",
     "text": [
      "ФГОС, ПООП, ФГУ, ФНЦ, НИИСИ, РАН\n"
     ]
    }
   ],
   "source": [
    "import re\n",
    "x = 'Это курс информатики соответствует ФГОС и ПООП, это подтверждено ФГУ ФНЦ НИИСИ РАН'\n",
    "\n",
    "print(', '.join(re.findall(r'[А-Я]{2,}', x)))"
   ]
  },
  {
   "cell_type": "markdown",
   "metadata": {},
   "source": [
    "### 2. Задачка про аббревиатуры 2\n",
    "Акростих — осмысленный текст, сложенный из начальных букв каждой строки стихотворения.\n",
    "Акроним — вид аббревиатуры, образованной начальными звуками (напр. НАТО, вуз, НАСА, ТАСС), которое можно произнести слитно (в отличие от аббревиатуры, которую произносят «по буквам», например: КГБ — «ка-гэ-бэ»).\n",
    "На вход даётся текст. Выведите слитно первые буквы каждого слова. Буквы необходимо выводить заглавными. \n",
    "Эту задачу можно решить в одну строчку."
   ]
  },
  {
   "cell_type": "code",
   "execution_count": 2,
   "metadata": {},
   "outputs": [
    {
     "output_type": "stream",
     "name": "stdout",
     "text": [
      "КГБ\n"
     ]
    }
   ],
   "source": [
    "import re\n",
    "x = 'Комитет государственной Безопасности'\n",
    "\n",
    "print(''.join(s.upper() for s in re.findall(r'\\b[А-Яа-я]', x)))"
   ]
  },
  {
   "cell_type": "markdown",
   "metadata": {},
   "source": [
    "### 3. Задачка про перевод из camel_case'a в snake_case"
   ]
  },
  {
   "cell_type": "markdown",
   "metadata": {},
   "source": [
    "Мы уже довольно много говорили про то, что в компаниях могут быть конвенции по обозначению переменных. Что, если вы написали код, а в нем переменные названы в Camel Case а вам требуется snake case? Пожалуй, стоит автоматизировать этот процесс. Попробуем написать функцию, которая этот функционал реализует.\n",
    "\n",
    "**Ввод:**\n",
    "camelCaseVar\n",
    "\n",
    "**Вывод:**\n",
    "camel_case_var"
   ]
  },
  {
   "cell_type": "code",
   "execution_count": 3,
   "metadata": {},
   "outputs": [
    {
     "output_type": "stream",
     "name": "stdout",
     "text": [
      "camel_case_var\n"
     ]
    }
   ],
   "source": [
    "import re\n",
    "\n",
    "def camel_case_transform(name: str) -> str:\n",
    "    return '_'.join(s.lower() for s in re.findall(r'[A-Za-z][a-z_]*', name))\n",
    "\n",
    "print(camel_case_transform(\"camelCaseVar\"))"
   ]
  },
  {
   "cell_type": "markdown",
   "metadata": {},
   "source": [
    "### 4. Задачка про подсчет количества слов"
   ]
  },
  {
   "cell_type": "markdown",
   "metadata": {},
   "source": [
    "Слова у нас могут состоять из букв или букв, стоящих вокруг дефиса (во-первых, чуть-чуть, давай-ка). Попробуем это описать регулярным выражением и посчитаем все слова в тексте."
   ]
  },
  {
   "cell_type": "code",
   "execution_count": 4,
   "metadata": {},
   "outputs": [
    {
     "output_type": "stream",
     "name": "stdout",
     "text": [
      "Дельный\nчто\nи\nговорить\nБыл\nстарик\nтот\nсамый\nЧто\nпридумал\nсуп\nварить\nНа\nколесах\nпрямо\nСуп\nво-первых\nВо-вторых\nКашу\nв\nнорме\nпрочной\nНет\nстарик\nон\nбыл\nстарик\nЧуткий\nэто\nточно\n"
     ]
    }
   ],
   "source": [
    "text = '''\n",
    "                    - Дельный, что и говорить,\n",
    "                      Был старик тот самый,\n",
    "                      Что придумал суп варить\n",
    "                      На колесах прямо.\n",
    "                      Суп - во-первых. Во-вторых,\n",
    "                      Кашу в норме прочной.\n",
    "                      Нет, старик он был старик\n",
    "                      Чуткий - это точно.\n",
    "'''\n",
    "\n",
    "print('\\n'.join(re.findall(r'\\b[А-Яа-я]+-[А-Яа-я]+|\\b[А-Яа-я]+', text)))\n"
   ]
  },
  {
   "cell_type": "markdown",
   "metadata": {},
   "source": [
    "### 5. Задачка про поиск слов на а и на е"
   ]
  },
  {
   "cell_type": "markdown",
   "metadata": {},
   "source": [
    "Найдите в тексте слова, начинающиеся на а и на е"
   ]
  },
  {
   "cell_type": "code",
   "execution_count": 5,
   "metadata": {},
   "outputs": [
    {
     "output_type": "execute_result",
     "data": {
      "text/plain": [
       "['example',\n",
       " 'an',\n",
       " 'ArrayList',\n",
       " 'elements',\n",
       " 'elements',\n",
       " 'are',\n",
       " 'added',\n",
       " 'ArrayList',\n",
       " 'and',\n",
       " 'ArrayList',\n",
       " 'accordingly']"
      ]
     },
     "metadata": {},
     "execution_count": 5
    }
   ],
   "source": [
    "import re\n",
    "text = \"The following example creates an ArrayList with a capacity of 50 elements.\\\n",
    "        Four elements are then added to the ArrayList and the ArrayList is trimmed accordingly.\"\n",
    "\n",
    "re.findall(r'\\b[A,E,a,e]\\w+', text)"
   ]
  },
  {
   "cell_type": "markdown",
   "metadata": {},
   "source": [
    "Пример 2"
   ]
  },
  {
   "cell_type": "code",
   "execution_count": 6,
   "metadata": {},
   "outputs": [
    {
     "output_type": "execute_result",
     "data": {
      "text/plain": [
       "['euch', 'einst', 'euch']"
      ]
     },
     "metadata": {},
     "execution_count": 6
    }
   ],
   "source": [
    "import re\n",
    "text = '''\n",
    "        Ihr naht euch wieder, schwankende Gestalten,\n",
    "        Die früh sich einst dem trüben Blick gezeigt.\n",
    "        Versuch’ ich wohl, euch diesmal festzuhalten?\n",
    "        Fühl’ ich mein Herz noch jenem Wahn geneigt?\n",
    "        '''\n",
    "\n",
    "re.findall(r'\\b[A,E,a,e]\\w+', text)"
   ]
  },
  {
   "cell_type": "markdown",
   "metadata": {},
   "source": [
    "### 6. Задачка про деление текста на предложения "
   ]
  },
  {
   "cell_type": "markdown",
   "metadata": {},
   "source": [
    "Для простоты будем считать, что: \n",
    "* каждое предложение начинается с заглавной русской или латинской буквы;\n",
    "* каждое предложение заканчивается одним из знаков препинания .;!?;\n",
    "* между предложениями может быть любой непустой набор пробельных символов;\n",
    "* внутри предложений нет заглавных и точек (нет пакостей в духе «Мы любим творчество А. С. Пушкина)».\n",
    "\n",
    "Разделите текст на предложения так, чтобы каждое предложение занимало одну строку. \n",
    "Пустых строк в выводе быть не должно."
   ]
  },
  {
   "cell_type": "code",
   "execution_count": 7,
   "metadata": {},
   "outputs": [
    {
     "output_type": "stream",
     "name": "stdout",
     "text": [
      "Mr.\nSmith bought cheapsite.com for 1.5 million dollars, i.e.\nhe paid a lot for it!\nDid he mind?\nAdam Jones Jr.\nthinks he didn't.\nIn any case, this isn't true...\nWell, with a probability of .9 it isn't.\n"
     ]
    }
   ],
   "source": [
    "import re\n",
    "s = \"\"\"Mr. Smith bought cheapsite.com for 1.5 million dollars, i.e. he paid a lot for it! \\\n",
    "Did he mind? Adam Jones Jr. thinks he didn't. In any case, this isn't true... \\\n",
    "Well, with a probability of .9 it isn't.\"\"\"\n",
    "\n",
    "print('\\n'.join(re.findall(r'\\w.*?[.?!](?= |$)', s)))"
   ]
  },
  {
   "cell_type": "markdown",
   "metadata": {},
   "source": [
    "### 7. И реальный пример\n",
    "\n",
    "Возьмем перевод книги Идиот, вытащим оттуда текст первой главы, после чего посчитаем количество вхождений слова the. Ссылка \n",
    "https://www.gutenberg.org/files/2638/2638-0.txt"
   ]
  },
  {
   "cell_type": "code",
   "execution_count": 8,
   "metadata": {
    "tags": []
   },
   "outputs": [
    {
     "output_type": "stream",
     "name": "stdout",
     "text": [
      "10597\n"
     ]
    }
   ],
   "source": [
    "import re\n",
    "import requests\n",
    "\n",
    "idiot = requests.get('https://www.gutenberg.org/files/2638/2638-0.txt').text\n",
    "\n",
    "print(len(re.findall(r'^The\\s+|\\s+[T|t]he\\s+', idiot)))"
   ]
  }
 ],
 "metadata": {
  "kernelspec": {
   "display_name": "Python 3",
   "language": "python",
   "name": "python3"
  },
  "language_info": {
   "codemirror_mode": {
    "name": "ipython",
    "version": 3
   },
   "file_extension": ".py",
   "mimetype": "text/x-python",
   "name": "python",
   "nbconvert_exporter": "python",
   "pygments_lexer": "ipython3",
   "version": "3.7.8-final"
  }
 },
 "nbformat": 4,
 "nbformat_minor": 2
}